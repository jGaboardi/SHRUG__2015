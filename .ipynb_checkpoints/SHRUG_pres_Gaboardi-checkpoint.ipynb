{
 "cells": [
  {
   "cell_type": "code",
   "execution_count": null,
   "metadata": {
    "collapsed": false
   },
   "outputs": [],
   "source": [
    "#    GNU LESSER GENERAL PUBLIC LICENSE\n",
    "\n",
    "#    Version 3, 29 June 2007\n",
    "\n",
    "#    Copyright (C) 2007 Free Software Foundation, Inc. <http://fsf.org/>\n",
    "#    Everyone is permitted to copy and distribute verbatim copies\n",
    "#    of this license document, but changing it is not allowed."
   ]
  },
  {
   "cell_type": "markdown",
   "metadata": {},
   "source": [
    "------\n",
    "\n",
    "------\n",
    "\n",
    "<font size='4' face='Arial'><h1 align=\"center\"><i><u>Network-Based Model Building for</u></i></h1></font>  \n",
    "<font size='4' face='Arial'><h1 align=\"center\"><i><u>Discrete Location Allocation in Python:</u></i></h1></font>  \n",
    "<font size='4' face='Arial'><h1 align=\"center\"><i><u>Integrating PySAL and Gurobi</u></i></h1></font> \n",
    "\n",
    "------\n",
    "\n",
    "------\n",
    "\n",
    "<font size='3' face='Arial'><h1 align=\"center\">James D. Gaboardi</h1></font>\n",
    "<font size='3' face='Arial'><h1 align=\"center\">David C. Folch</h1></font>\n",
    "\n",
    "------\n",
    "\n",
    "------\n",
    "\n",
    "<font size='3' face='Arial'><h1 align=\"center\"><i>Florida State University</i></h1></font>\n",
    "<font size='3' face='Arial'><h1 align=\"center\"><i>Department of Geography</i></h1></font>\n",
    "<font size='3' face='Arial'><h1 align=\"center\"><i>SHRUG 2015</i></h1></font>\n",
    "\n",
    "------\n",
    "\n",
    "------"
   ]
  },
  {
   "cell_type": "markdown",
   "metadata": {},
   "source": [
    "## 1. Optimization in GIS\n",
    "###   &nbsp;&nbsp;&nbsp;&nbsp;&nbsp;&nbsp; • Imports\n",
    "###   &nbsp;&nbsp;&nbsp;&nbsp;&nbsp;&nbsp; • What is Spatial Optimization?\n",
    "###   &nbsp;&nbsp;&nbsp;&nbsp;&nbsp;&nbsp; • Reproducibility\n",
    "###   &nbsp;&nbsp;&nbsp;&nbsp;&nbsp;&nbsp; • Software"
   ]
  },
  {
   "cell_type": "markdown",
   "metadata": {},
   "source": [
    "## 2. Demonstration of PySAL + Gurobi\n",
    "###   &nbsp;&nbsp;&nbsp;&nbsp;&nbsp;&nbsp; • Imports & Specs\n",
    "###   &nbsp;&nbsp;&nbsp;&nbsp;&nbsp;&nbsp; •  Data Preparation & Creation\n",
    "###   &nbsp;&nbsp;&nbsp;&nbsp;&nbsp;&nbsp; •  Mathematical Optimization\n",
    "###   &nbsp;&nbsp;&nbsp;&nbsp;&nbsp;&nbsp;&nbsp;&nbsp;&nbsp;&nbsp;&nbsp;&nbsp; → Set Cover Location Problem\n",
    "###   &nbsp;&nbsp;&nbsp;&nbsp;&nbsp;&nbsp;&nbsp;&nbsp;&nbsp;&nbsp;&nbsp;&nbsp; →  *p*-Median Problem\n",
    "###   &nbsp;&nbsp;&nbsp;&nbsp;&nbsp;&nbsp;&nbsp;&nbsp;&nbsp;&nbsp;&nbsp;&nbsp; →  *p*-Center Problem\n",
    "###   &nbsp;&nbsp;&nbsp;&nbsp;&nbsp;&nbsp;&nbsp;&nbsp;&nbsp;&nbsp;&nbsp;&nbsp; →  *p*-Center Problem (Manual LP Creation)\n",
    "###   &nbsp;&nbsp;&nbsp;&nbsp;&nbsp;&nbsp; •  Visualization of Selected Locations"
   ]
  },
  {
   "cell_type": "markdown",
   "metadata": {},
   "source": [
    "## 3. Next Steps"
   ]
  },
  {
   "cell_type": "markdown",
   "metadata": {},
   "source": [
    "---------------"
   ]
  },
  {
   "cell_type": "markdown",
   "metadata": {},
   "source": [
    "## Imports"
   ]
  },
  {
   "cell_type": "code",
   "execution_count": 1,
   "metadata": {
    "collapsed": false
   },
   "outputs": [],
   "source": [
    "import datetime as dt\n",
    "import gurobipy as gbp\n",
    "import IPython.display as IPd\n",
    "import os\n",
    "import platform\n",
    "import pysal as ps\n",
    "import sys\n",
    "import time\n",
    "\n",
    "# Local path on user's machine\n",
    "path = '/Users/jgaboardi/SHRUG__15/'"
   ]
  },
  {
   "cell_type": "markdown",
   "metadata": {},
   "source": [
    "---------------"
   ]
  },
  {
   "cell_type": "markdown",
   "metadata": {},
   "source": [
    "# 1.&nbsp;&nbsp;&nbsp;&nbsp; Optimization & GIS"
   ]
  },
  {
   "cell_type": "markdown",
   "metadata": {},
   "source": [
    "## _What is Spatial Optimization?_"
   ]
  },
  {
   "cell_type": "markdown",
   "metadata": {},
   "source": [
    "###   &nbsp;&nbsp;&nbsp;&nbsp;&nbsp;&nbsp; • Geographic Information Systems & Science\n",
    "###   &nbsp;&nbsp;&nbsp;&nbsp;&nbsp;&nbsp; • Operations Research / Decision Science\n",
    "###   &nbsp;&nbsp;&nbsp;&nbsp;&nbsp;&nbsp; • Optimization & Mathematical Programming"
   ]
  },
  {
   "cell_type": "markdown",
   "metadata": {},
   "source": [
    "-----\n",
    "\n",
    ">#### Maximize\n",
    ">>&nbsp;&nbsp;&nbsp;&nbsp;&nbsp;&nbsp;  9x + 7y\n",
    "\n",
    ">#### Subject To\n",
    ">>&nbsp;&nbsp;&nbsp;&nbsp;&nbsp;&nbsp; 10x + 5y <= 50\n",
    "\n",
    ">>&nbsp;&nbsp;&nbsp;&nbsp;&nbsp;&nbsp; 6x + 6y <= 36\n",
    "\n",
    ">>&nbsp;&nbsp;&nbsp;&nbsp;&nbsp;&nbsp; 4.5x + 18y <= 81\n",
    "\n",
    ">#### Bounds\n",
    ">>&nbsp;&nbsp;&nbsp;&nbsp;&nbsp;&nbsp; x >= 0\n",
    "\n",
    ">>&nbsp;&nbsp;&nbsp;&nbsp;&nbsp;&nbsp; y >= 0\n",
    "\n",
    ">#### End"
   ]
  },
  {
   "cell_type": "markdown",
   "metadata": {},
   "source": [
    "---\n",
    "\n",
    ">>> The equations above represent a basic linear program designed to maximize profit.\n",
    "\n",
    ">>>### The Shop Problem\n",
    "\n",
    ">>>> - ***x*** is Product 1;  ***y*** is Product 2\n",
    "\n",
    ">>>> - \\$9 for each unit of ***x*** and \\$7 for each unit of ***y***\n",
    "\n",
    ">>>> - Constraint 1 is Machine 1 time (hrs.)\n",
    ">>>> - Constraint 2 is Machine 2 time (hrs.)\n",
    ">>>> - Constraint 3 is Machine 3 time (hrs.)\n",
    "\n",
    "\n",
    ">>>> #### Solution:\n",
    ">>>> - objective value = \\$50\n",
    ">>>> - x = 4 units\n",
    ">>>> - y = 2 units\n",
    "\n",
    "\n",
    "\n",
    ">#### Originally Published:\n",
    "> - Greenwald, D. U.\n",
    "> - 1957\n",
    "> - Linear Programming: An Explanation of the Simplex Algorithm\n",
    "> - New York, NY\n",
    "> - The Ronald Press Company"
   ]
  },
  {
   "cell_type": "markdown",
   "metadata": {},
   "source": [
    "------------\n",
    "\n",
    "###   &nbsp;&nbsp;&nbsp;&nbsp;&nbsp;&nbsp; • Location Allocation / Facility Location\n",
    "\n",
    "|Linear Programming (LP)|Integer Programming (IP)|&nbsp;&nbsp;Mixed-Integer Programming(MIP)&nbsp;&nbsp;|\n",
    "|:-------------------------:|:-------------------------:|:----------------------:\n",
    "|&nbsp;&nbsp;&nbsp;The Traveling Salesperson Problem&nbsp;&nbsp;&nbsp;|*p*-Median Problem|*p*-Center Problem|\n",
    "|The Transportation Problem|&nbsp;&nbsp;Set Cover Location Problem&nbsp;&nbsp;|Capacitated *p*-Center Problem|"
   ]
  },
  {
   "cell_type": "markdown",
   "metadata": {},
   "source": [
    "-------------------"
   ]
  },
  {
   "cell_type": "markdown",
   "metadata": {},
   "source": [
    "## How do we solve these models and is the workflow reproducible?"
   ]
  },
  {
   "cell_type": "markdown",
   "metadata": {},
   "source": [
    "Later in this section there is an example of the workflow for another paper I am currently working on using an accepted, traditional method.  This involves manual data input and processing at every step in the schema which tends to decrease efficiency and reproducibility. This is very similar to an Operations Research approach to model building and Operations Research Methodology Diagram ***[see references]***."
   ]
  },
  {
   "cell_type": "markdown",
   "metadata": {},
   "source": [
    "----------------"
   ]
  },
  {
   "cell_type": "markdown",
   "metadata": {},
   "source": [
    "# `PySAL 1.11.0 dev`  \n",
    "### Python Spatial Analysis Library\n",
    "[https://www.pysal.readthedocs.org]"
   ]
  },
  {
   "cell_type": "markdown",
   "metadata": {},
   "source": [
    "Sergio Rey at Arizona State University leads the PySAL project. [https://geoplan.asu.edu/people/sergio-j-rey]\n",
    "\n",
    "\"PySAL is an open source library of spatial analysis functions written in Python intended to support the development of high level applications. PySAL is open source under the BSD License.\" [https://pysal.readthedocs.org/en/latest/]\n",
    "\n",
    "I will be only be demonstrating a portion of the functionality in `PySAL.Network`, but there are many other classes and functions for statistical spatial analysis within PySAL.  "
   ]
  },
  {
   "cell_type": "code",
   "execution_count": null,
   "metadata": {
    "collapsed": false
   },
   "outputs": [],
   "source": [
    "print dir(ps)"
   ]
  },
  {
   "cell_type": "markdown",
   "metadata": {},
   "source": [
    "# `PySAL.Network`"
   ]
  },
  {
   "cell_type": "markdown",
   "metadata": {},
   "source": [
    "`PySAL.Network` was principally developed by Jay Laura at Arizona State Universty and the United States Geological Suvery.  [https://geoplan.asu.edu/people/jay-laura]"
   ]
  },
  {
   "cell_type": "code",
   "execution_count": null,
   "metadata": {
    "collapsed": false
   },
   "outputs": [],
   "source": [
    "print dir(ps.Network)"
   ]
  },
  {
   "cell_type": "markdown",
   "metadata": {},
   "source": [
    "# `Gurobi 6.5`"
   ]
  },
  {
   "cell_type": "markdown",
   "metadata": {},
   "source": [
    "*Relatively new company founded by optimization experts formerly at key positions with CPLEX.*\n",
    "\n",
    "[http://www.gurobi.com] [http://www.gurobi.com/company/about-gurobi]"
   ]
  },
  {
   "cell_type": "markdown",
   "metadata": {},
   "source": [
    "# `Gurobipy`"
   ]
  },
  {
   "cell_type": "markdown",
   "metadata": {},
   "source": [
    "*Python wrapper for Gurobi*"
   ]
  },
  {
   "cell_type": "code",
   "execution_count": null,
   "metadata": {
    "collapsed": false
   },
   "outputs": [],
   "source": [
    "print dir(gbp)"
   ]
  },
  {
   "cell_type": "markdown",
   "metadata": {},
   "source": [
    "## \"Traditional\" Conceptual Model"
   ]
  },
  {
   "cell_type": "code",
   "execution_count": null,
   "metadata": {
    "collapsed": false,
    "scrolled": false
   },
   "outputs": [],
   "source": [
    "# Manual Conceptual Model\n",
    "My_Manual = IPd.Image(path+'/Manual_Diagram.png')\n",
    "My_Manual"
   ]
  },
  {
   "cell_type": "markdown",
   "metadata": {},
   "source": [
    "## <b>So why do things differently?\n",
    "\n",
    "When solving spatial problems in a GIS, there are typically lots of files to keep track of and a lot of button clicking. This can lead to compounded errors at every stage in the process."
   ]
  },
  {
   "cell_type": "markdown",
   "metadata": {},
   "source": [
    "The following flowchart is a conceptual model of my current workflow.  This workflow mimics the one described above, but the processes within are largely automated to maximize efficiency and reproducibility by minimizing the potential for human error in data handling, etc.  This workflow will be demonstrated next."
   ]
  },
  {
   "cell_type": "markdown",
   "metadata": {},
   "source": [
    "## Automated Model"
   ]
  },
  {
   "cell_type": "code",
   "execution_count": null,
   "metadata": {
    "collapsed": false
   },
   "outputs": [],
   "source": [
    "# Automated Conceptual Model\n",
    "My_Auto = IPd.Image(path+'/Auto_Diagram.png')\n",
    "My_Auto"
   ]
  },
  {
   "cell_type": "markdown",
   "metadata": {},
   "source": [
    "--------------"
   ]
  },
  {
   "cell_type": "markdown",
   "metadata": {},
   "source": [
    "# 2. &nbsp;&nbsp;&nbsp;&nbsp; Demonstration"
   ]
  },
  {
   "cell_type": "markdown",
   "metadata": {},
   "source": [
    "## Imports & Specs"
   ]
  },
  {
   "cell_type": "code",
   "execution_count": null,
   "metadata": {
    "collapsed": false
   },
   "outputs": [],
   "source": [
    "from collections import OrderedDict\n",
    "import networkx as nx\n",
    "import numpy as np\n",
    "import shapefile as shp\n",
    "%pylab inline\n",
    "\n",
    "print '********************************************************'\n",
    "print ' | Platform Specs:                                    |'\n",
    "print ' |  | OS X v', platform.mac_ver()[0],'                                 |'\n",
    "print ' |  | Processor: ', platform.processor(), '                               |'\n",
    "print ' |  | Machine: ', platform.machine(), '                               |'\n",
    "print ' |  | Python: ', platform.python_version(), '                                 |'\n",
    "print ' |  | PySAL: ', ps.version, '                              |'\n",
    "print ' |  | Gurobi: ', gbp.gurobi.version(),'                             |'\n",
    "print '********************************************************'\n",
    "print ' |  | Date/Time --------- ', dt.datetime.now(), '|'\n",
    "print '********************************************************'"
   ]
  },
  {
   "cell_type": "markdown",
   "metadata": {},
   "source": [
    "## 2.1 &nbsp;&nbsp;&nbsp;&nbsp; Data preparation and creation"
   ]
  },
  {
   "cell_type": "markdown",
   "metadata": {},
   "source": [
    "### 2.1.1 &nbsp;&nbsp;&nbsp;&nbsp;  Instantiate a network"
   ]
  },
  {
   "cell_type": "markdown",
   "metadata": {},
   "source": [
    "First, I start out by instantiating a network by reading a shapefile in as a network object with `PySAL`.  I use Waverly Hills, a smallish neighborhood in Tallahassee, FL where quite a few professors at Florida State University own homes.  This shapefile was clipped from a US Census TIGER/Line file ***[see references]***.  Additionally, there are some good topological challenges in Waverly Hills that make for good test cases, as seen below.\n",
    "\n",
    "***Note:*** \n",
    ">***Steps 3.1.3 through 3.1.7 are needed to create a toy dataset of aggregated population demand points (i.e. households) and service facilities (i.e. school bus stops). These steps are eliminated when reading in actual datasets.***"
   ]
  },
  {
   "cell_type": "code",
   "execution_count": null,
   "metadata": {
    "collapsed": false
   },
   "outputs": [],
   "source": [
    "# Instanitate network of Waverly Hills\n",
    "ntw = ps.Network(path+'Waverly/Waverly.shp')"
   ]
  },
  {
   "cell_type": "markdown",
   "metadata": {},
   "source": [
    "### Loop Road"
   ]
  },
  {
   "cell_type": "code",
   "execution_count": null,
   "metadata": {
    "collapsed": false
   },
   "outputs": [],
   "source": [
    "# Avon Circle\n",
    "Avon_Cir = IPd.Image(path+'/Avon.jpg')\n",
    "Avon_Cir"
   ]
  },
  {
   "cell_type": "markdown",
   "metadata": {},
   "source": [
    "### <u>Self-intersecting Road</u>"
   ]
  },
  {
   "cell_type": "code",
   "execution_count": null,
   "metadata": {
    "collapsed": false
   },
   "outputs": [],
   "source": [
    "# Millstream Road\n",
    "Millstream_Rd = IPd.Image(path+'/Millstream.jpg')\n",
    "Millstream_Rd"
   ]
  },
  {
   "cell_type": "markdown",
   "metadata": {},
   "source": [
    "### 2.1.2 &nbsp;&nbsp;&nbsp;&nbsp;  Instantiate all graphs to be drawn"
   ]
  },
  {
   "cell_type": "markdown",
   "metadata": {},
   "source": [
    "Next, I instantiate the graphs to be drawn for visualization. This includes a representation of edges comprising the road network and nodes for the demand and service nodes. `NetworkX` is utilized for this step."
   ]
  },
  {
   "cell_type": "code",
   "execution_count": null,
   "metadata": {
    "collapsed": false
   },
   "outputs": [],
   "source": [
    "# Roads and Nodes\n",
    "g = nx.Graph()\n",
    "\n",
    "# Graph of Roads and Nodes\n",
    "g1 = nx.MultiGraph()\n",
    "\n",
    "# Clients\n",
    "GRAPH_client = nx.Graph()\n",
    "\n",
    "# Snapped Clients\n",
    "g_client = nx.Graph()\n",
    "\n",
    "# Service\n",
    "GRAPH_service = nx.Graph()\n",
    "\n",
    "# Snapped Service\n",
    "g_service = nx.Graph()\n",
    "\n",
    "## Optimized Locations\n",
    "# Set Cover\n",
    "setcover_g = nx.Graph()\n",
    "\n",
    "# p-Median\n",
    "median_g = nx.Graph()\n",
    "\n",
    "# p-Center\n",
    "center_g = nx.Graph()\n",
    "\n",
    "# p-Center Manual\n",
    "center_g_man = nx.Graph()"
   ]
  },
  {
   "cell_type": "markdown",
   "metadata": {},
   "source": [
    "### 2.1.3 &nbsp;&nbsp;&nbsp;&nbsp; Create Bounding Box from `Waverly.shp`"
   ]
  },
  {
   "cell_type": "code",
   "execution_count": null,
   "metadata": {
    "collapsed": false
   },
   "outputs": [],
   "source": [
    "# Instantiate the Waverly Hills neighborhood shapefile\n",
    "shp_W = ps.open(path+'Waverly/Waverly.shp')\n",
    "\n",
    "# Create a bounding box of the shapefile\n",
    "shp_W.bbox"
   ]
  },
  {
   "cell_type": "markdown",
   "metadata": {},
   "source": [
    "In order to create simulated demand and service nodes for this toy problem I create a bounding latitude and longitude box from the extremes of the 'Waverly.shp' of the Waverly Hills neighborhood. The total area is roughly 1.5 square miles."
   ]
  },
  {
   "cell_type": "markdown",
   "metadata": {},
   "source": [
    "### 2.1.4 &nbsp;&nbsp;&nbsp;&nbsp; Create `Numpy` arrays of random floats within a  bounding box"
   ]
  },
  {
   "cell_type": "markdown",
   "metadata": {},
   "source": [
    "Within the bounding box I create lists of 100 random numbers for the latitude and longitude of demand points (clients), then 15 random numbers for the latitude and longitude of the service points with `Numpy`."
   ]
  },
  {
   "cell_type": "code",
   "execution_count": null,
   "metadata": {
    "collapsed": false
   },
   "outputs": [],
   "source": [
    "# Client latitude\n",
    "np.random.seed(850)\n",
    "lat_client = np.random.uniform(shp_W.bbox[0], shp_W.bbox[2], 100)\n",
    "\n",
    "np.random.seed(352)\n",
    "# Client longitude\n",
    "lon_client = np.random.uniform(shp_W.bbox[1], shp_W.bbox[3], 100)\n",
    "\n",
    "np.random.seed(904)\n",
    "# Service latitude\n",
    "lat_service = np.random.uniform(shp_W.bbox[0], shp_W.bbox[2], 15)\n",
    "\n",
    "np.random.seed(407)\n",
    "# Service longitude\n",
    "lon_service = np.random.uniform(shp_W.bbox[1], shp_W.bbox[3], 15)"
   ]
  },
  {
   "cell_type": "markdown",
   "metadata": {},
   "source": [
    "### 2.1.5 &nbsp;&nbsp;&nbsp;&nbsp; Zip the latitude and longitude lists together"
   ]
  },
  {
   "cell_type": "markdown",
   "metadata": {},
   "source": [
    "Next, these four lists are zipped together to form two: a list of client lat/lons and a list and service lat/lons"
   ]
  },
  {
   "cell_type": "code",
   "execution_count": null,
   "metadata": {
    "collapsed": false
   },
   "outputs": [],
   "source": [
    "# Client lat/lon coordinates\n",
    "rand_coords_client = map(list, zip(lat_client, lon_client))\n",
    "\n",
    "# Service lat/lon coordinates\n",
    "rand_coords_service = map(list, zip(lat_service, lon_service))"
   ]
  },
  {
   "cell_type": "markdown",
   "metadata": {},
   "source": [
    "### 2.1.6 &nbsp;&nbsp;&nbsp;&nbsp; Create empty random points dictionaries"
   ]
  },
  {
   "cell_type": "markdown",
   "metadata": {},
   "source": [
    "Dictionaries are instantiated to house the point location data for the simulated client and service facilities."
   ]
  },
  {
   "cell_type": "code",
   "execution_count": null,
   "metadata": {
    "collapsed": true
   },
   "outputs": [],
   "source": [
    "# Empty Clients dictionary\n",
    "points_client = {}\n",
    "\n",
    "# Empty Service dictionary\n",
    "points_service = {}"
   ]
  },
  {
   "cell_type": "markdown",
   "metadata": {},
   "source": [
    "### 2.1.7 &nbsp;&nbsp;&nbsp;&nbsp; Fill dictionaries of random roints"
   ]
  },
  {
   "cell_type": "markdown",
   "metadata": {},
   "source": [
    "The dictionaries that have just been created are now filled with the ids and lat/lons of the points."
   ]
  },
  {
   "cell_type": "code",
   "execution_count": null,
   "metadata": {
    "collapsed": false
   },
   "outputs": [],
   "source": [
    "# CLIENT with {id: [lon, lat], } dictionary format\n",
    "for idx, coords in enumerate(rand_coords_client):\n",
    "    GRAPH_client.add_node(idx)\n",
    "    points_client[idx] = coords\n",
    "    GRAPH_client.node[idx] = coords\n",
    "\n",
    "# SERVICE with {id: [lon, lat], } dictionary format  \n",
    "for idx, coords in enumerate(rand_coords_service):\n",
    "    GRAPH_service.add_node(idx)\n",
    "    points_service[idx] = coords\n",
    "    GRAPH_service.node[idx] = coords"
   ]
  },
  {
   "cell_type": "markdown",
   "metadata": {},
   "source": [
    "### 2.1.8 &nbsp;&nbsp;&nbsp;&nbsp; Draw roads, simplified network, and random client & service nodes"
   ]
  },
  {
   "cell_type": "markdown",
   "metadata": {},
   "source": [
    "The following is a visualization of the data I have just created and the roads in Waverly Hills using `matplotlib`.  The roads and nodes are derived for network object created in [2.1.1].\n",
    "\n",
    "Nodes in pink represent the actual intersections and the roads are represented in light red. The simplified network (connecting graph nodes) is gray and the remaining graph nodes (where a choice in forward destination is possible) are red.  These are necessary for determination of a shortest path and may greatly would diminish the computational time. The client nodes are represented in blue and the service nodes are represented in cyan."
   ]
  },
  {
   "cell_type": "code",
   "execution_count": null,
   "metadata": {
    "collapsed": false
   },
   "outputs": [],
   "source": [
    "print dt.datetime.now()\n",
    "\n",
    "#Instantiate Figure\n",
    "figsize(10,11)\n",
    "\n",
    "#Draw Graph of Actual Nodes and Roads\n",
    "for e in ntw.edges:\n",
    "    g.add_edge(*e)\n",
    "nx.draw(g, ntw.node_coords, node_size=5, alpha=0.25, edge_color='r', width=2)\n",
    "\n",
    "#Draw only unique edges in graph\n",
    "for e in ntw.graphedges:\n",
    "    g1.add_edge(*e)\n",
    "    # highlights cases where start and end node are the same\n",
    "    if e[0]==e[1]:\n",
    "        g1.add_node(e[0])\n",
    "    \n",
    "for node_id in g1.node:\n",
    "    g1.node[node_id] = ntw.node_coords[node_id]\n",
    "nx.draw(g1, ntw.node_coords, node_size=20, alpha=0.5)\n",
    "\n",
    "# Draw Graph of Random Client Points\n",
    "nx.draw(GRAPH_client, points_client, \n",
    "        node_size=75, alpha=1, node_color='b')\n",
    "\n",
    "# Draw Graph of Random Service Points\n",
    "nx.draw(GRAPH_service, points_service, \n",
    "    node_size=75, alpha=1, node_color='c')\n",
    "\n",
    "# Legend (Ordered Dictionary) from collections\n",
    "LEGEND = OrderedDict()\n",
    "LEGEND['Network Nodes']=g\n",
    "LEGEND['Roads']=g\n",
    "LEGEND['Graph Vertices']=g1\n",
    "LEGEND['Graph Edges']=g1\n",
    "LEGEND['Client Nodes']=GRAPH_client\n",
    "LEGEND['Service Nodes']=GRAPH_service\n",
    "legend(LEGEND, \n",
    "       loc='lower right', \n",
    "       fancybox=True, \n",
    "       framealpha=0.5,\n",
    "       scatterpoints=1)\n",
    "\n",
    "# Title\n",
    "title('Waverly Hills\\nTallahassee, Florida', family='Times New Roman', \n",
    "      size=40, color='k', backgroundcolor='w', weight='bold')\n",
    "\n",
    "# North Arrow and 'N' --> Must be changed for different spatial resolutions, etc.\n",
    "arrow(-84.281, 30.49, 0.0, 0.005, width=.0003, head_width=0.001, \n",
    "          head_length=0.0015, fc='k', ec='k',alpha=0.75,)\n",
    "annotate('N', xy=(-84.2815, 30.498), fontstyle='italic', fontsize='xx-large',\n",
    "            fontweight='heavy', alpha=0.75)"
   ]
  },
  {
   "cell_type": "markdown",
   "metadata": {},
   "source": [
    "### Network Characteristics"
   ]
  },
  {
   "cell_type": "code",
   "execution_count": null,
   "metadata": {
    "collapsed": false,
    "scrolled": false
   },
   "outputs": [],
   "source": [
    "print '\\nNodes in original network:   ', len(ntw.nodes)\n",
    "print 'Edges in original network:   ', len(ntw.edges)\n",
    "print '\\nNodes in simplified network: ', len(g1.node)\n",
    "print 'Edges in simplified network: ', len(ntw.graphedges)"
   ]
  },
  {
   "cell_type": "markdown",
   "metadata": {},
   "source": [
    "### Instantiate simplified network shapefile"
   ]
  },
  {
   "cell_type": "code",
   "execution_count": null,
   "metadata": {
    "collapsed": false,
    "scrolled": true
   },
   "outputs": [],
   "source": [
    "# List of coords by key\n",
    "LC = []\n",
    "for i,j in g1.edges():\n",
    "    if i in g1.node and j in g1.node:\n",
    "        x=[list(g1.node[i]), list(g1.node[j])]\n",
    "        x = list(x)\n",
    "        LC.append(x)\n",
    "lc = [LC]  \n",
    "SimpGraph = shp.Writer(shp.POLYLINE)\n",
    "# Add Edges [k] in list of edges by end node coord\n",
    "for k in lc:\n",
    "    SimpGraph.poly(shapeType=shp.POLYLINE, parts=k)\n",
    "# Add Fields\n",
    "SimpGraph.field('Graph_ID')\n",
    "counter = 0\n",
    "for i in range(len(g1.node)):\n",
    "    counter = counter + 1\n",
    "    SimpGraph.record(counter)\n",
    "# Save Shapefile    \n",
    "SimpGraph.save(path+'Waverly/Simplified_Waverly.shp')"
   ]
  },
  {
   "cell_type": "markdown",
   "metadata": {},
   "source": [
    "### 2.1.9 &nbsp;&nbsp;&nbsp;&nbsp; Create weights at nodes and sum "
   ]
  },
  {
   "cell_type": "markdown",
   "metadata": {},
   "source": [
    "In order to solve the population weighted problem in this demonstration, the <i>p</i>-median problem, I will `Numpy` to generate a list of 100 random integers (1-4) to represent population at each client node. In this case we can think of the population weight as number of children in the household."
   ]
  },
  {
   "cell_type": "code",
   "execution_count": null,
   "metadata": {
    "collapsed": false
   },
   "outputs": [],
   "source": [
    "# Client Weights for demand\n",
    "np.random.seed(850)\n",
    "Ai = np.random.randint(1, 5, len(rand_coords_client))\n",
    "Ai = Ai.reshape(len(Ai),1)\n",
    "\n",
    "# Sum of Weights (Total Demand) \n",
    "AiSum = np.sum(Ai)"
   ]
  },
  {
   "cell_type": "markdown",
   "metadata": {},
   "source": [
    "### 2.1.10 &nbsp;&nbsp;&nbsp;&nbsp; Instantiate client and service shapefiles"
   ]
  },
  {
   "cell_type": "markdown",
   "metadata": {},
   "source": [
    "Using the python package `shapefile`, I instantiate `.shp` files of the client and service location data that was created above."
   ]
  },
  {
   "cell_type": "code",
   "execution_count": null,
   "metadata": {
    "collapsed": false
   },
   "outputs": [],
   "source": [
    "# Client Shapefile\n",
    "client = shp.Writer(shp.POINT)\n",
    "# Add Random Points\n",
    "for i,j in rand_coords_client:\n",
    "    client.point(i,j)\n",
    "# Add Fields\n",
    "client.field('client_ID')\n",
    "client.field('Weight')\n",
    "client.field('LAT')\n",
    "client.field('LON')\n",
    "counter = 0\n",
    "for i in range(len(rand_coords_client)):\n",
    "    counter = counter + 1\n",
    "    client.record('client_' + str(counter), Ai[i], lat_client[i], lon_client[i])\n",
    "# Save Shapefile    \n",
    "client.save(path+'Simulated/RandomPoints_CLIENT')\n",
    "\n",
    "#Service Shapefile\n",
    "service = shp.Writer(shp.POINT)\n",
    "# Add Random Points\n",
    "for i,j in rand_coords_service:\n",
    "    service.point(i,j)\n",
    "# Add Fields\n",
    "service.field('y_ID')\n",
    "service.field('x_ID')\n",
    "service.field('LAT')\n",
    "service.field('LON')\n",
    "counter = 0\n",
    "for i in range(len(rand_coords_service)):\n",
    "    counter = counter + 1\n",
    "    service.record('y' + str(counter), 'x' + str(counter), lat_service[i], lon_service[i])\n",
    "# Save Shapefile    \n",
    "service.save(path+'Simulated/RandomPoints_SERVICE')"
   ]
  },
  {
   "cell_type": "markdown",
   "metadata": {},
   "source": [
    "### Instantiate Simplified Network"
   ]
  },
  {
   "cell_type": "code",
   "execution_count": null,
   "metadata": {
    "collapsed": false
   },
   "outputs": [],
   "source": [
    "SimNet = ps.Network(path+'Waverly/Simplified_Waverly.shp')"
   ]
  },
  {
   "cell_type": "markdown",
   "metadata": {},
   "source": [
    "### 2.1.11a &nbsp;&nbsp;&nbsp;&nbsp; Snap observations to `ntw`"
   ]
  },
  {
   "cell_type": "markdown",
   "metadata": {},
   "source": [
    "Next, I snap the client and service observations to the network with the `ntw.snapobservations` method within the instantiated network object for visualization."
   ]
  },
  {
   "cell_type": "code",
   "execution_count": null,
   "metadata": {
    "collapsed": false
   },
   "outputs": [],
   "source": [
    "t1 = time.time()\n",
    "Snap_C = ntw.snapobservations(path+'Simulated/RandomPoints_CLIENT.shp', \n",
    "                     'Rand_Points_CLIENT', attribute=True)\n",
    "Snap_S = ntw.snapobservations(path+'Simulated/RandomPoints_SERVICE.shp', \n",
    "                     'Rand_Points_SERVICE', attribute=True)\n",
    "print round(time.time()-t1, 4), 'seconds'"
   ]
  },
  {
   "cell_type": "markdown",
   "metadata": {},
   "source": [
    "### 2.1.11b &nbsp;&nbsp;&nbsp;&nbsp; Snap observations to `SimNet`"
   ]
  },
  {
   "cell_type": "markdown",
   "metadata": {},
   "source": [
    "Also, I snap the client and service observations to the simplified network with the `SimNet.snapobservations` method. This allows for the creation of a distance matrix."
   ]
  },
  {
   "cell_type": "code",
   "execution_count": null,
   "metadata": {
    "collapsed": false
   },
   "outputs": [],
   "source": [
    "t1 = time.time()\n",
    "Snap_C = SimNet.snapobservations(path+'Simulated/RandomPoints_CLIENT.shp', \n",
    "                     'Rand_Points_CLIENT', attribute=True)\n",
    "Snap_S = SimNet.snapobservations(path+'Simulated/RandomPoints_SERVICE.shp', \n",
    "                     'Rand_Points_SERVICE', attribute=True)\n",
    "print round(time.time()-t1, 4), 'seconds'"
   ]
  },
  {
   "cell_type": "markdown",
   "metadata": {},
   "source": [
    "### 2.1.12 &nbsp;&nbsp;&nbsp;&nbsp; Draw `ntw`, snapped coords, & random coords"
   ]
  },
  {
   "cell_type": "markdown",
   "metadata": {},
   "source": [
    "When the graph is redrawn we can the client and service location in their original locations represented by the smaller points, and the network-snapped location represented with larger points."
   ]
  },
  {
   "cell_type": "code",
   "execution_count": null,
   "metadata": {
    "collapsed": false
   },
   "outputs": [],
   "source": [
    "# Instantiate Figure\n",
    "figsize(10,11)\n",
    "\n",
    "# Draw Graph of Roads\n",
    "for e in ntw.edges:\n",
    "    g.add_edge(*e)\n",
    "nx.draw(g, ntw.node_coords, node_size=5, alpha=0.25, edge_color='r', width=2)\n",
    "\n",
    "# Draw Graph of Snapped Client Nodes\n",
    "g_client = nx.Graph()\n",
    "for p,coords in ntw.pointpatterns['Rand_Points_CLIENT'].snapped_coordinates.iteritems():\n",
    "    g_client.add_node(p)\n",
    "    g_client.node[p] = coords\n",
    "nx.draw(g_client, ntw.pointpatterns['Rand_Points_CLIENT'].snapped_coordinates, \n",
    "        node_size=75, alpha=1, node_color='b')\n",
    "\n",
    "# Draw Graph of Snapped Service Nodes\n",
    "g_service = nx.Graph()\n",
    "for p,coords in ntw.pointpatterns['Rand_Points_SERVICE'].snapped_coordinates.iteritems():\n",
    "    g_service.add_node(p)\n",
    "    g_service.node[p] = coords\n",
    "nx.draw(g_service, ntw.pointpatterns['Rand_Points_SERVICE'].snapped_coordinates, \n",
    "        node_size=75, alpha=1, node_color='c')\n",
    "\n",
    "# Draw Graph of Random Client Points\n",
    "nx.draw(GRAPH_client, points_client, \n",
    "    node_size=20, alpha=1, node_color='y')\n",
    "\n",
    "# Draw Graph of Random Service Points\n",
    "nx.draw(GRAPH_service, points_service, \n",
    "    node_size=20, alpha=1, node_color='w')\n",
    "\n",
    "# Legend (Ordered Dictionary)\n",
    "LEGEND = OrderedDict()\n",
    "LEGEND['Network Nodes']=g\n",
    "LEGEND['Roads']=g\n",
    "LEGEND['Snapped Client']=g_client\n",
    "LEGEND['Snapped Service']=g_service\n",
    "LEGEND['Client Nodes']=GRAPH_client\n",
    "LEGEND['Service Nodes']=GRAPH_service\n",
    "legend(LEGEND, loc='lower right', fancybox=True, framealpha=0.5, scatterpoints=1)\n",
    "\n",
    "# Title\n",
    "title('Waverly Hills\\n Tallahassee, Florida', family='Times New Roman', \n",
    "      size=40, color='k', backgroundcolor='w', weight='bold')\n",
    "\n",
    "# North Arrow and 'N' --> Must be changed for different spatial resolutions, etc.\n",
    "arrow(-84.281, 30.49, 0.0, 0.005, width=.0003, head_width=0.001, \n",
    "          head_length=0.0015, fc='k', ec='k',alpha=0.75,)\n",
    "annotate('N', xy=(-84.2815, 30.498), fontstyle='italic', fontsize='xx-large',\n",
    "            fontweight='heavy', alpha=0.75)"
   ]
  },
  {
   "cell_type": "markdown",
   "metadata": {},
   "source": [
    "### 2.1.13 &nbsp;&nbsp;&nbsp;&nbsp; Instantiate shapefile of service nodes snapped to `ntw`"
   ]
  },
  {
   "cell_type": "markdown",
   "metadata": {},
   "source": [
    "This code chunk is key for representing the results of the optimization problems accurately.  I create a shapefile of the snapped service variable names and their coordinates to be used for comparison later."
   ]
  },
  {
   "cell_type": "code",
   "execution_count": null,
   "metadata": {
    "collapsed": false
   },
   "outputs": [],
   "source": [
    "# Create Lat & Lon dictionaries of the snapped service locations\n",
    "lat_snapped = []\n",
    "lon_snapped = []\n",
    "for i,j in ntw.pointpatterns['Rand_Points_SERVICE'].snapped_coordinates.iteritems():\n",
    "    lat_snapped.append(j[0]) \n",
    "    lon_snapped.append(j[1])\n",
    "\n",
    "# Snapped Service Shapefile\n",
    "service_SNAP = shp.Writer(shp.POINT)\n",
    "# Add Points\n",
    "for i,j in ntw.pointpatterns['Rand_Points_SERVICE'].snapped_coordinates.iteritems():\n",
    "    service_SNAP.point(j[0],j[1])\n",
    "# Add Fields\n",
    "service_SNAP.field('y_ID')\n",
    "service_SNAP.field('x_ID')\n",
    "service_SNAP.field('LAT')\n",
    "service_SNAP.field('LON')\n",
    "counter = 0\n",
    "for i in range(len(ntw.pointpatterns['Rand_Points_SERVICE'].snapped_coordinates)):\n",
    "    counter = counter + 1\n",
    "    service_SNAP.record('y' + str(counter), 'x' + str(counter), lat_snapped[i], lon_snapped[i])\n",
    "# Save Shapefile    \n",
    "service_SNAP.save(path+'Snapped/SERVICE_Snapped')"
   ]
  },
  {
   "cell_type": "markdown",
   "metadata": {},
   "source": [
    "### 2.1.14 &nbsp;&nbsp;&nbsp;&nbsp; Create distance matrices"
   ]
  },
  {
   "cell_type": "markdown",
   "metadata": {},
   "source": [
    "Finally, I create a client to service distance matrix with `SimNet.allneighbordistances()` from the instantiated network object of the simplified network of Waverly Hills [`Waverly_Simplified.shp`].  The cost matrix in created on the to reduce the computational burden, although it is not correct in it's current form.  The matrix is 100x15 and the values are converted from decimal degrees to miles. \n",
    "\n",
    "A current limitation of this is the run-time to calculate accurate road segment length which is hindered by the number of nodes and edges of the network.  When tested with much larger client and service point sets the shortest-path  `Dijkstra` algorithm ran in similar time.  This demonstrates the limitation of calculating a cost matrix with the actual road network.  As a potential improvement, the `Dijkstra` may be refactored with a different data structure to see decreases in run-time. The run-time may decrease with another method of data storage."
   ]
  },
  {
   "cell_type": "code",
   "execution_count": null,
   "metadata": {
    "collapsed": false
   },
   "outputs": [],
   "source": [
    "t1 = time.time()\n",
    "\n",
    "# Define Client to Service Matrix Function\n",
    "def c_s_matrix():\n",
    "    global All_Dist_MILES\n",
    "    All_Neigh_Dist = SimNet.allneighbordistances(sourcepattern=SimNet.pointpatterns['Rand_Points_CLIENT'],\n",
    "                                             destpattern=SimNet.pointpatterns['Rand_Points_SERVICE'])\n",
    "    All_Dist_MILES = All_Neigh_Dist * float(10000/90) * 0.6214 \n",
    "\n",
    "# Call Client to Service Matrix Function\n",
    "c_s_matrix()    \n",
    "\n",
    "seconds = round(time.time()-t1, 4)    \n",
    "print seconds, 'seconds'\n",
    "print 'Client to Service Matrix Shape --> ', All_Dist_MILES.shape"
   ]
  },
  {
   "cell_type": "markdown",
   "metadata": {},
   "source": [
    "------------------------"
   ]
  },
  {
   "cell_type": "markdown",
   "metadata": {},
   "source": [
    "## 2.2 &nbsp;&nbsp;&nbsp;&nbsp; Mathematical Optimization"
   ]
  },
  {
   "cell_type": "markdown",
   "metadata": {},
   "source": [
    "### Set Parameters within Gurobi"
   ]
  },
  {
   "cell_type": "code",
   "execution_count": null,
   "metadata": {
    "collapsed": false
   },
   "outputs": [],
   "source": [
    "# Set Parameters\n",
    "gbp.setParam('MIPFocus', 2)                 # Set MIP focus to 'Optimal' --> 2\n",
    "gbp.setParam('MIPGapAbs', 0)                # Set Absolute MIP Gap  --> 0\n",
    "gbp.setParam('GomoryPasses', 0)             # Set Number of Gomory Cuts  --> 0\n",
    "gbp.setParam('ZeroHalfCuts', 0)             # Set Number of Zero Half Cuts  --> 0\n",
    "gbp.setParam('ImpliedCuts', 0)              # Set Number of Implied Cuts  --> 0\n",
    "gbp.setParam('BarConvTol', .000000001)      # Set Barrier Convergence Tolerence\n",
    "gbp.setParam('FeasibilityTol', .000000001)  # Set Feasibility Tolerence\n",
    "gbp.setParam('IntFeasTol', .000000001)      # Set Integer Feasibility Tolerence\n",
    "gbp.setParam('OptimalityTol', .000000001)   # Set Optimality Tolerence\n",
    "gbp.setParam('Method', 4)                   # Set Algorithm to 'concurrent': Dual Simplex and Barrier\n",
    "gbp.setParam('DisplayInterval', 1)          # Set Display Interval to 1"
   ]
  },
  {
   "cell_type": "markdown",
   "metadata": {},
   "source": [
    "### 2.2.1a &nbsp;&nbsp;&nbsp;&nbsp; Set Cover test [*S* = 1.25 miles]"
   ]
  },
  {
   "cell_type": "markdown",
   "metadata": {},
   "source": [
    "The set cover location problem, also known as the SCLP, is a fundamental facility location problem ***[see references]***.  The objective of the SCLP is to minimize the number of service facilities to site while achieving complete (100%) coverage of client nodes."
   ]
  },
  {
   "cell_type": "markdown",
   "metadata": {},
   "source": [
    "## Minimize\n",
    "\n",
    "# &nbsp;&nbsp;&nbsp;&nbsp;&nbsp;&nbsp;&nbsp;&nbsp; $\\displaystyle\\sum_{j=1}^n d_j x_j$\n",
    "\n",
    "## Subject to\n",
    "\n",
    "# &nbsp;&nbsp;&nbsp;&nbsp;&nbsp;&nbsp;&nbsp;&nbsp; $\\displaystyle\\sum_{j=1}^n a_{ij} x_j \\geq 1,$ &nbsp;&nbsp;&nbsp;&nbsp;&nbsp;&nbsp;&nbsp;&nbsp;&nbsp;&nbsp; $i = 1 \\in n$\n",
    "\n",
    "# &nbsp;&nbsp;&nbsp;&nbsp;&nbsp;&nbsp;&nbsp;&nbsp; $\\displaystyle x_j \\in (0,1)$  &nbsp;&nbsp;&nbsp;&nbsp;&nbsp;&nbsp;&nbsp;&nbsp;&nbsp;&nbsp;&nbsp;&nbsp;&nbsp;&nbsp; $j = 1 \\in  m$\n",
    "\n",
    "\n",
    "## where\n",
    "## &nbsp;&nbsp;&nbsp;&nbsp;&nbsp;&nbsp;&nbsp;&nbsp;&nbsp;−\t$i$ = a specific origin\n",
    "## &nbsp;&nbsp;&nbsp;&nbsp;&nbsp;&nbsp;&nbsp;&nbsp;&nbsp;−\t$j$ = a specific destination\n",
    "## &nbsp;&nbsp;&nbsp;&nbsp;&nbsp;&nbsp;&nbsp;&nbsp;&nbsp;−\t$n$ = the set of origins\n",
    "## &nbsp;&nbsp;&nbsp;&nbsp;&nbsp;&nbsp;&nbsp;&nbsp;&nbsp;−\t$m$ = the set of destinations\n",
    "## &nbsp;&nbsp;&nbsp;&nbsp;&nbsp;&nbsp;&nbsp;&nbsp;&nbsp;−\t$x_i$ = the decision variable at each node in the matrix\n",
    "\n",
    "## &nbsp;&nbsp;&nbsp;&nbsp;&nbsp;&nbsp;&nbsp;&nbsp;&nbsp;−\t$d_{ij}$ = distance from $i$th origin to $j$th destination\n",
    "\n",
    "## &nbsp;&nbsp;&nbsp;&nbsp;&nbsp;&nbsp;&nbsp;&nbsp;&nbsp;−\t$a_{ij}$ = binary matrix describing the coverage of each node\n",
    "\n",
    "## &nbsp;&nbsp;&nbsp;&nbsp;&nbsp;&nbsp;&nbsp;&nbsp;&nbsp; where\n",
    "\n",
    "## &nbsp;&nbsp;&nbsp;&nbsp;&nbsp;&nbsp;&nbsp;&nbsp;&nbsp;&nbsp;&nbsp;&nbsp;&nbsp;&nbsp;&nbsp;&nbsp;&nbsp;&nbsp;&nbsp;&nbsp;&nbsp;− $a_{ij}$ = $1 \\forall i, j \\ni d_{ij} \\geq S$ ($S$ is user defined) \n",
    "\n",
    "## &nbsp;&nbsp;&nbsp;&nbsp;&nbsp;&nbsp;&nbsp;&nbsp;&nbsp;&nbsp;&nbsp;&nbsp;&nbsp;&nbsp;&nbsp;&nbsp;&nbsp;&nbsp;&nbsp;&nbsp;&nbsp;− $a_{ij} $ = $0$ otherwise\n",
    "\n",
    "\n",
    "-----\n",
    "\n",
    "Adapted from:\n",
    "- Daskin, M. S. 1995. Network and Discrete Location: Models, Algorithms, and Applications. Hoboken, NJ, USA: John Wiley & Sons, Inc."
   ]
  },
  {
   "cell_type": "code",
   "execution_count": null,
   "metadata": {
    "collapsed": false
   },
   "outputs": [],
   "source": [
    "# Define the Set Cover function\n",
    "def gbpSCLP():    \n",
    "    \n",
    "    t1 = time.time()\n",
    "    \n",
    "    # Define Global Records Variable\n",
    "    global NEW_Records_SCLP\n",
    "    \n",
    "    #     1. Read In Data\n",
    "    # Cost Matrix\n",
    "    Cij = All_Dist_MILES\n",
    "    # Create Aij: Determine Aij (nodes within S)\n",
    "    # S --> 1 = served; 0 = unserved\n",
    "    S = 1.25\n",
    "    # Aij\n",
    "    Aij = []\n",
    "    for i in np.nditer(Cij):\n",
    "        if i <= S:\n",
    "            outtext = 1\n",
    "        else:\n",
    "            outtext = 0\n",
    "        Aij.append(outtext)\n",
    "    rows, cols = Cij.shape\n",
    "    \n",
    "    # Transform Aij into an array and resphape to match with Cij\n",
    "    Aij = np.array(Aij)\n",
    "    Aij = Aij.reshape(len(Cij),len(Cij[0]))\n",
    "    \n",
    "    \n",
    "    client_nodes = range(len(Cij))\n",
    "    service_nodes = range(len(Cij[0]))\n",
    "\n",
    "    #     2. Create Model, Set MIP Focus, Add Variables, & Update Model\n",
    "    mSCLP = gbp.Model(\" -- SCLP -- \")\n",
    "    \n",
    "\n",
    "    # Add Service Decision Variables (j)\n",
    "    serv_var = []\n",
    "    for dest in service_nodes:\n",
    "        serv_var.append(mSCLP.addVar(vtype=gbp.GRB.BINARY,\n",
    "                                    lb=0,\n",
    "                                    ub=1,\n",
    "                                    name='x'+str(dest+1)))\n",
    "    # Update Model Variables\n",
    "    mSCLP.update()       \n",
    "\n",
    "    #     3. Set Objective Function\n",
    "    mSCLP.setObjective(gbp.quicksum(serv_var[dest] \n",
    "                                for dest in service_nodes), \n",
    "                                gbp.GRB.MINIMIZE)\n",
    "\n",
    "    #     4. Add Constraints \n",
    "    # Add Coverage Constraints  \n",
    "    for orig in client_nodes:\n",
    "        mSCLP.addConstr(gbp.quicksum(Aij[orig][dest]*serv_var[dest] \n",
    "                                for dest in service_nodes) >= 1)        \n",
    "\n",
    "    #     5. Optimize and Print Results\n",
    "    # Solve\n",
    "    try:\n",
    "        mSCLP.optimize()\n",
    "    except Exception as e:\n",
    "        exc_type, exc_obj, exc_tb = sys.exc_info()\n",
    "        fname = os.path.split(exc_tb.tb_frame.f_code.co_filename)[1]\n",
    "        print exc_type, fname, 'Line Number -- ',exc_tb.tb_lineno\n",
    "        print '   ################################################################'\n",
    "        print ' < ISSUE : ', e, ' >'\n",
    "        print '   ################################################################'\n",
    "    \n",
    "    # Write LP\n",
    "    mSCLP.write(path+'LP_Files/WaverlySCLP.lp')\n",
    "    t2 = time.time()-t1\n",
    "    \n",
    "    # Record and Display Results\n",
    "    print '\\n*****************************************************************************************'\n",
    "    selected = []\n",
    "    dbf1 = ps.open(path+'Snapped/SERVICE_Snapped.dbf')\n",
    "    NEW_Records_SCLP = []\n",
    "    for v in mSCLP.getVars():\n",
    "        if v.x > 0:\n",
    "            var = '%s' % v.VarName\n",
    "            selected.append(v.x)\n",
    "            for i in range(dbf1.n_records):\n",
    "                if var in dbf1.read_record(i):\n",
    "                    x = dbf1.read_record(i)\n",
    "                    NEW_Records_SCLP.append(x)\n",
    "                else:\n",
    "                    pass\n",
    "            print '    |                                                ', var\n",
    "    print '    | Selected Facility Locations ------------------  ^^^^ '\n",
    "    print '    | Coverage (S) in miles ------------------------ ', S\n",
    "    print '    | Client Nodes --------------------------------- ', len(client_nodes)\n",
    "    print '    | Facilities needed 100% coverage of clients --- ', len(selected)\n",
    "    print '    | Real Time to Optimize (sec.) ----------------- ', t2\n",
    "    print '    | Date/Time ------------------------------------ ', dt.datetime.now()\n",
    "    print '*****************************************************************************************'\n",
    "    print ' -- Set Cover Location Problem -- '\n",
    "    \n",
    "# Call SCLP Function\n",
    "try:\n",
    "    gbpSCLP()\n",
    "    print '\\nJames Gaboardi, 2015'\n",
    "except Exception as e:\n",
    "    exc_type, exc_obj, exc_tb = sys.exc_info()\n",
    "    fname = os.path.split(exc_tb.tb_frame.f_code.co_filename)[1]\n",
    "    print exc_type, fname, 'Line Number -- ',exc_tb.tb_lineno\n",
    "    print '   ################################################################'\n",
    "    print ' < ISSUE : ', e, ' >'\n",
    "    print '   ################################################################'"
   ]
  },
  {
   "cell_type": "markdown",
   "metadata": {},
   "source": [
    "### 2.2.1b&nbsp;&nbsp;&nbsp;&nbsp; Instantiate selected Set Cover location shapefile"
   ]
  },
  {
   "cell_type": "markdown",
   "metadata": {},
   "source": [
    "Following optimization, I created a new shapefile of the selected candidate service locations."
   ]
  },
  {
   "cell_type": "code",
   "execution_count": null,
   "metadata": {
    "collapsed": false
   },
   "outputs": [],
   "source": [
    "# Define SCLP shapefile function\n",
    "def Create_SCLP():\n",
    "    try:\n",
    "        # Instantiate SCLP shapefile\n",
    "        SHP_SetCover = shp.Writer(shp.POINT)\n",
    "        # Add Points\n",
    "        for idy,idx,x,y in NEW_Records_SCLP:\n",
    "            SHP_SetCover.point(float(x), float(y))\n",
    "        # Add Fields\n",
    "        SHP_SetCover.field('y_ID')\n",
    "        SHP_SetCover.field('x_ID')\n",
    "        SHP_SetCover.field('LAT')\n",
    "        SHP_SetCover.field('LON')\n",
    "        # Add Records\n",
    "        for idy,idx,x,y in NEW_Records_SCLP:\n",
    "            SHP_SetCover.record(idy,idx,x,y)\n",
    "        # Save Shapefile    \n",
    "        SHP_SetCover.save(path+'Results/Selected_Locations_SetCover')\n",
    "    except Exception as e:\n",
    "        exc_type, exc_obj, exc_tb = sys.exc_info()\n",
    "        fname = os.path.split(exc_tb.tb_frame.f_code.co_filename)[1]\n",
    "        print exc_type, fname, 'Line Number -- ',exc_tb.tb_lineno\n",
    "        print '   ################################################################'\n",
    "        print ' < ISSUE : ', e, ' >'\n",
    "        print '   ################################################################'\n",
    "\n",
    "# Call SCLP shapefile function\n",
    "try:\n",
    "    Create_SCLP()\n",
    "except Exception as e:\n",
    "    exc_type, exc_obj, exc_tb = sys.exc_info()\n",
    "    fname = os.path.split(exc_tb.tb_frame.f_code.co_filename)[1]\n",
    "    print exc_type, fname, 'Line Number -- ',exc_tb.tb_lineno\n",
    "    print '   ################################################################'\n",
    "    print ' < ISSUE : ', e, ' >'\n",
    "    print '   ################################################################'"
   ]
  },
  {
   "cell_type": "markdown",
   "metadata": {},
   "source": [
    "----------------------------"
   ]
  },
  {
   "cell_type": "markdown",
   "metadata": {},
   "source": [
    "### 2.2.2a&nbsp;&nbsp;&nbsp;&nbsp;  *p*-Median test [*p* = 2]"
   ]
  },
  {
   "cell_type": "markdown",
   "metadata": {},
   "source": [
    "The <i>p</i>-median problem (PMP), also known as the minisum problem, was first proposed by Hakimi in the 1960s and has been utilized in wide-ranging research topics such as Mathematics and Emergency Management since then ***[see references]***.  This model sites <i>p</i> facilities with an objective of minimizing the total travel cost by siting facilities nearest to the greatest amount of demand.  Weighting decision variables with population, for example, does this.  Efficiency (lowest travel cost) is the key to the PMP. "
   ]
  },
  {
   "cell_type": "markdown",
   "metadata": {},
   "source": [
    "## Minimize\n",
    "\n",
    "# &nbsp;&nbsp;&nbsp;&nbsp;&nbsp;&nbsp;&nbsp;&nbsp; $\\displaystyle\\sum_{i \\in 1}^n\\sum_{j\\in 1}^m a_i c_{ij} x_{ij}$\n",
    "\n",
    "## Subject to\n",
    "\n",
    "# &nbsp;&nbsp;&nbsp;&nbsp;&nbsp;&nbsp;&nbsp;&nbsp; $\\displaystyle\\sum_{j\\in m} x_{ij}  = 1 ,$&nbsp;&nbsp;&nbsp;&nbsp;&nbsp;&nbsp;&nbsp;&nbsp;  $\\forall i \\in n$\n",
    "\n",
    "# &nbsp;&nbsp;&nbsp;&nbsp;&nbsp;&nbsp;&nbsp;&nbsp; $\\displaystyle\\sum_{i \\in n} y_j = p$\n",
    "\n",
    "# &nbsp;&nbsp;&nbsp;&nbsp;&nbsp;&nbsp;&nbsp;&nbsp; $x_{ij} - y_j \\geq 0,$ &nbsp;&nbsp;&nbsp;&nbsp;&nbsp;&nbsp; $\\forall i \\in n, j \\in m$\n",
    "\n",
    "# &nbsp;&nbsp;&nbsp;&nbsp;&nbsp;&nbsp;&nbsp;&nbsp; $x_{ij}, y_j \\in (0,1)$ &nbsp;&nbsp;&nbsp;&nbsp; $\\forall i \\in n , j \\in m$\n",
    "\n",
    "## where\n",
    "\n",
    "## &nbsp;&nbsp;&nbsp;&nbsp;&nbsp;&nbsp;&nbsp;&nbsp;&nbsp;−\t$i$ = a specific origin\n",
    "## &nbsp;&nbsp;&nbsp;&nbsp;&nbsp;&nbsp;&nbsp;&nbsp;&nbsp;−\t$j$ = a specific destination\n",
    "## &nbsp;&nbsp;&nbsp;&nbsp;&nbsp;&nbsp;&nbsp;&nbsp;&nbsp;−\t$n$ = the set of origins\n",
    "## &nbsp;&nbsp;&nbsp;&nbsp;&nbsp;&nbsp;&nbsp;&nbsp;&nbsp;−\t$m$ = the set of destinations\n",
    "## &nbsp;&nbsp;&nbsp;&nbsp;&nbsp;&nbsp;&nbsp;&nbsp;&nbsp;−\t$a_i$ = weight at each node\n",
    "## &nbsp;&nbsp;&nbsp;&nbsp;&nbsp;&nbsp;&nbsp;&nbsp;&nbsp;−\t$c_{ij}$ = travel costs between nodes\n",
    "## &nbsp;&nbsp;&nbsp;&nbsp;&nbsp;&nbsp;&nbsp;&nbsp;&nbsp;−\t$x_{ij}$ = the decision variable at each node in the matrix\n",
    "## &nbsp;&nbsp;&nbsp;&nbsp;&nbsp;&nbsp;&nbsp;&nbsp;&nbsp;−\t$y_j$ = nodes chosen as service facilities\n",
    "## &nbsp;&nbsp;&nbsp;&nbsp;&nbsp;&nbsp;&nbsp;&nbsp;&nbsp;−\t$p$ = the number of facilities to be sited\n",
    "\n",
    "-----\n",
    "\n",
    "Adapted from:\n",
    "- Daskin, M. S. 1995. Network and Discrete Location: Models, Algorithms, and Applications. Hoboken, NJ, USA: John Wiley & Sons, Inc."
   ]
  },
  {
   "cell_type": "code",
   "execution_count": null,
   "metadata": {
    "collapsed": false
   },
   "outputs": [],
   "source": [
    "# define p-Median function\n",
    "def gbpPMP():\n",
    "    \n",
    "    t1 = time.time()\n",
    "    \n",
    "    # Define Global Variables\n",
    "    global Ai\n",
    "    global AiSum\n",
    "    global NEW_Records_PMP \n",
    "    \n",
    "    #     1. Data\n",
    "    # Demand\n",
    "    Ai = Ai\n",
    "    # Demand Sum\n",
    "    AiSum = AiSum\n",
    "    # Travel Costs\n",
    "    Cij = All_Dist_MILES\n",
    "    # Weighted Costs\n",
    "    Sij = Ai * Cij\n",
    "    # Total Client and Service nodes\n",
    "    client_nodes = range(len(Sij))\n",
    "    service_nodes = range(len(Sij[0]))\n",
    "    \n",
    "    #     2. Create Model, Add Variables, & Update Model\n",
    "    # Instantiate Model\n",
    "    mPMP = gbp.Model(' -- p-Median -- ')\n",
    "\n",
    "    # Add Client Decision Variables (iXj)\n",
    "    client_var = []\n",
    "    for orig in client_nodes:\n",
    "        client_var.append([])\n",
    "        for dest in service_nodes:\n",
    "            client_var[orig].append(mPMP.addVar(vtype=gbp.GRB.BINARY,\n",
    "                                                lb=0,\n",
    "                                                ub=1,\n",
    "                                                obj=Sij[orig][dest], \n",
    "                                                name='x'+str(orig+1)+'_'+str(dest+1)))\n",
    "    \n",
    "    # Add Service Decision Variables (j)\n",
    "    serv_var = []\n",
    "    for dest in service_nodes:\n",
    "        serv_var.append([])\n",
    "        serv_var[dest].append(mPMP.addVar(vtype=gbp.GRB.BINARY,\n",
    "                                          lb=0,\n",
    "                                          ub=1,\n",
    "                                          name='y'+str(dest+1)))\n",
    "    \n",
    "    # Update the model\n",
    "    mPMP.update()\n",
    "    \n",
    "    #     3. Set Objective Function\n",
    "    mPMP.setObjective(gbp.quicksum(Sij[orig][dest]*client_var[orig][dest] \n",
    "                            for orig in client_nodes for dest in service_nodes), \n",
    "                            gbp.GRB.MINIMIZE)\n",
    "    \n",
    "    \n",
    "    #     4. Add Constraints\n",
    "    # Assignment Constraints\n",
    "    for orig in client_nodes:\n",
    "        mPMP.addConstr(gbp.quicksum(client_var[orig][dest] \n",
    "                            for dest in service_nodes) == 1)\n",
    "    # Opening Constraints\n",
    "    for orig in service_nodes:\n",
    "        for dest in client_nodes:\n",
    "            mPMP.addConstr((serv_var[orig][0] - client_var[dest][orig] >= 0))\n",
    "    \n",
    "    # Facility Constraint\n",
    "    mPMP.addConstr(gbp.quicksum(serv_var[dest][0] for dest in service_nodes) == 2)\n",
    "    \n",
    "    #     5. Optimize and Print Results\n",
    "    # Solve\n",
    "    try:\n",
    "        mPMP.optimize()\n",
    "    except Exception as e:\n",
    "        exc_type, exc_obj, exc_tb = sys.exc_info()\n",
    "        fname = os.path.split(exc_tb.tb_frame.f_code.co_filename)[1]\n",
    "        print exc_type, fname, 'Line Number -- ',exc_tb.tb_lineno\n",
    "        print '   ################################################################'\n",
    "        print ' < ISSUE : ', e, ' >'\n",
    "        print '   ################################################################'\n",
    "    \n",
    "    # Write LP\n",
    "    mPMP.write(path+'LP_Files/WaverlyPMP.lp')\n",
    "    t2 = time.time()-t1\n",
    "    \n",
    "    # Record and Display Results\n",
    "    print '\\n*************************************************************************'\n",
    "    selected = []\n",
    "    dbf1 = ps.open(path+'Snapped/SERVICE_Snapped.dbf')\n",
    "    NEW_Records_PMP = []\n",
    "    for v in mPMP.getVars():\n",
    "        if 'x' in v.VarName:\n",
    "            pass\n",
    "        elif v.x > 0:\n",
    "            var = '%s' % v.VarName\n",
    "            selected.append(var)\n",
    "            for i in range(dbf1.n_records):\n",
    "                if var in dbf1.read_record(i):\n",
    "                    x = dbf1.read_record(i)\n",
    "                    NEW_Records_PMP.append(x)\n",
    "                else:\n",
    "                    pass\n",
    "            print '    |                                            ', var\n",
    "    print '    | Selected Facility Locations --------------  ^^^^ '\n",
    "    print '    | Candidate Facilities [p] ----------------- ', len(selected)\n",
    "    val = mPMP.objVal\n",
    "    print '    | Objective Value (miles) ------------------ ', val\n",
    "    avg = float(mPMP.objVal)/float(AiSum)\n",
    "    print '    | Avg. Value / Client (miles) -------------- ', avg\n",
    "    print '    | Real Time to Optimize (sec.) ------------- ', t2\n",
    "    print '    | Date/Time -------------------------------- ', dt.datetime.now()\n",
    "    print '*************************************************************************'\n",
    "    print ' -- The p-Median Problem -- '\n",
    "    \n",
    "# Call p-Median Function   \n",
    "try:\n",
    "    gbpPMP()\n",
    "    print '\\nJames Gaboardi, 2015'\n",
    "except Exception as e:\n",
    "    exc_type, exc_obj, exc_tb = sys.exc_info()\n",
    "    fname = os.path.split(exc_tb.tb_frame.f_code.co_filename)[1]\n",
    "    print exc_type, fname, 'Line Number -- ',exc_tb.tb_lineno\n",
    "    print '   ################################################################'\n",
    "    print ' < ISSUE : ', e, ' >'\n",
    "    print '   ################################################################'"
   ]
  },
  {
   "cell_type": "markdown",
   "metadata": {},
   "source": [
    "### 2.2.2b&nbsp;&nbsp;&nbsp;&nbsp; Instantiate Selected *p*-median shapefile"
   ]
  },
  {
   "cell_type": "markdown",
   "metadata": {},
   "source": [
    "Following optimization, I created a new shapefile of the selected candidate service locations."
   ]
  },
  {
   "cell_type": "code",
   "execution_count": null,
   "metadata": {
    "collapsed": false
   },
   "outputs": [],
   "source": [
    "# define PMP shapefile function\n",
    "def Create_PMP():\n",
    "    try:\n",
    "        # Instantiate Shapefile\n",
    "        SHP_Median = shp.Writer(shp.POINT)\n",
    "        # Add Points\n",
    "        for idy,idx,x,y in NEW_Records_PMP:\n",
    "            SHP_Median.point(float(x), float(y))\n",
    "        # Add Fields\n",
    "        SHP_Median.field('y_ID')\n",
    "        SHP_Median.field('x_ID')\n",
    "        SHP_Median.field('LAT')\n",
    "        SHP_Median.field('LON')\n",
    "        # Add Records\n",
    "        for idy,idx,x,y in NEW_Records_PMP:\n",
    "            SHP_Median.record(idy,idx,x,y)\n",
    "        # Save Shapefile    \n",
    "        SHP_Median.save(path+'Results/Selected_Locations_Pmedian')\n",
    "    except Exception as e:\n",
    "        exc_type, exc_obj, exc_tb = sys.exc_info()\n",
    "        fname = os.path.split(exc_tb.tb_frame.f_code.co_filename)[1]\n",
    "        print exc_type, fname, 'Line Number -- ',exc_tb.tb_lineno\n",
    "        print '   ################################################################'\n",
    "        print ' < ISSUE : ', e, ' >'\n",
    "        print '   ################################################################'\n",
    "\n",
    "# Call PMP shapefile function\n",
    "try:\n",
    "    Create_PMP()\n",
    "except Exception as e:\n",
    "    exc_type, exc_obj, exc_tb = sys.exc_info()\n",
    "    fname = os.path.split(exc_tb.tb_frame.f_code.co_filename)[1]\n",
    "    print exc_type, fname, 'Line Number -- ',exc_tb.tb_lineno\n",
    "    print '   ################################################################'\n",
    "    print ' < ISSUE : ', e, ' >'\n",
    "    print '   ################################################################'"
   ]
  },
  {
   "cell_type": "markdown",
   "metadata": {},
   "source": [
    "----------------------"
   ]
  },
  {
   "cell_type": "markdown",
   "metadata": {},
   "source": [
    "### 2.2.3a  &nbsp;&nbsp;&nbsp;&nbsp; *p*-Center test [*p* = 2]"
   ]
  },
  {
   "cell_type": "markdown",
   "metadata": {},
   "source": [
    "The <i>p</i>-center problem (PCP), also referred to as the minimax problem, sites facilities with a focus on equity and has been widely utilized in research as a counter-measure to the efficiency-based <i>p</i>-median problem.  The objective of the PCP is the minimization of the maximum (worst-case) travel cost from client nodes to service facilities ***[see references]***."
   ]
  },
  {
   "cell_type": "markdown",
   "metadata": {},
   "source": [
    "## Minimize\n",
    "\n",
    "# &nbsp;&nbsp;&nbsp;&nbsp;&nbsp;&nbsp;&nbsp;&nbsp; $W$\n",
    "\n",
    "## Subject to\n",
    "\n",
    "# &nbsp;&nbsp;&nbsp;&nbsp;&nbsp;&nbsp;&nbsp;&nbsp; $\\displaystyle\\sum_{j\\in m} x_{ij} = 1,$ &nbsp;&nbsp;&nbsp;&nbsp;&nbsp;&nbsp;&nbsp;&nbsp;&nbsp;&nbsp;&nbsp;&nbsp;   $\\forall i \\in n$\n",
    "\n",
    "# &nbsp;&nbsp;&nbsp;&nbsp;&nbsp;&nbsp;&nbsp;&nbsp; $\\displaystyle\\sum_{i \\in n} y_j = p$\n",
    "\n",
    "# &nbsp;&nbsp;&nbsp;&nbsp;&nbsp;&nbsp;&nbsp;&nbsp; $x_{ij} - y_j \\geq 0,$ &nbsp;&nbsp;&nbsp;&nbsp;&nbsp;&nbsp;&nbsp;&nbsp;&nbsp;&nbsp;&nbsp;  $\\forall i\\in n, j \\in m$\n",
    "\n",
    "# &nbsp;&nbsp;&nbsp;&nbsp;&nbsp;&nbsp;&nbsp;&nbsp; $\\displaystyle W \\geq \\sum_{j \\in m} c_{ij} x_{ij}$&nbsp;&nbsp;&nbsp;&nbsp;&nbsp;&nbsp;&nbsp;&nbsp;&nbsp; $\\forall i \\in n$\n",
    "\n",
    "# &nbsp;&nbsp;&nbsp;&nbsp;&nbsp;&nbsp;&nbsp;&nbsp; $x_{ij}, y_j \\in (0,1)$ &nbsp;&nbsp;&nbsp;&nbsp;&nbsp;&nbsp;&nbsp;&nbsp;&nbsp; $\\forall i \\in n, j \\in m$\n",
    "\n",
    "## where\n",
    "\n",
    "## &nbsp;&nbsp;&nbsp;&nbsp;&nbsp;&nbsp;&nbsp;&nbsp;&nbsp;−\t$W$ = the maximum travel cost between client and service nodes\n",
    "## &nbsp;&nbsp;&nbsp;&nbsp;&nbsp;&nbsp;&nbsp;&nbsp;&nbsp;−\t$i$ = a specific origin\n",
    "## &nbsp;&nbsp;&nbsp;&nbsp;&nbsp;&nbsp;&nbsp;&nbsp;&nbsp;−\t$j$ = a specific destination\n",
    "## &nbsp;&nbsp;&nbsp;&nbsp;&nbsp;&nbsp;&nbsp;&nbsp;&nbsp;−\t$n$ = the set of origins\n",
    "## &nbsp;&nbsp;&nbsp;&nbsp;&nbsp;&nbsp;&nbsp;&nbsp;&nbsp;−\t$m$ = the set of destinations\n",
    "## &nbsp;&nbsp;&nbsp;&nbsp;&nbsp;&nbsp;&nbsp;&nbsp;&nbsp;−\t$a_i$ = weight at each node\n",
    "## &nbsp;&nbsp;&nbsp;&nbsp;&nbsp;&nbsp;&nbsp;&nbsp;&nbsp;−\t$c_{ij}$ = travel costs between nodes\n",
    "## &nbsp;&nbsp;&nbsp;&nbsp;&nbsp;&nbsp;&nbsp;&nbsp;&nbsp;−\t$x_{ij}$ = the decision variable at each node in the matrix\n",
    "## &nbsp;&nbsp;&nbsp;&nbsp;&nbsp;&nbsp;&nbsp;&nbsp;&nbsp;−\t$y_j$ = nodes chosen as service facilities\n",
    "## &nbsp;&nbsp;&nbsp;&nbsp;&nbsp;&nbsp;&nbsp;&nbsp;&nbsp;−\t$p$ = the number of facilities to be sited\n",
    "\n",
    "-----\n",
    "\n",
    "Adapted from:\n",
    "- Daskin, M. S. 1995. Network and Discrete Location: Models, Algorithms, and Applications. Hoboken, NJ, USA: John Wiley & Sons, Inc."
   ]
  },
  {
   "cell_type": "code",
   "execution_count": null,
   "metadata": {
    "collapsed": false
   },
   "outputs": [],
   "source": [
    "# define PCP shapefile function\n",
    "def gbpPCP():\n",
    "    \n",
    "    t1 = time.time()\n",
    "    \n",
    "    # Define Global Variables\n",
    "    global Cij\n",
    "    global mPCP\n",
    "    global dbf1\n",
    "    global selected_PCP\n",
    "    global NEW_Records_PCP\n",
    "    \n",
    "    #     1. Data\n",
    "    Cij = All_Dist_MILES\n",
    "    \n",
    "    # Total Client and Service nodes\n",
    "    client_nodes = range(len(Cij))\n",
    "    service_nodes = range(len(Cij[0]))\n",
    "    \n",
    "    #    2. Create Model, Add Variables, & Update Model\n",
    "    # Instantiate Model\n",
    "    mPCP = gbp.Model(' -- P-Center -- ')\n",
    "    \n",
    "    # Add Client Decision Variables (iXj)\n",
    "    client_var = []\n",
    "    for orig in client_nodes:\n",
    "        client_var.append([])\n",
    "        for dest in service_nodes:\n",
    "            client_var[orig].append(mPCP.addVar(vtype=gbp.GRB.BINARY, \n",
    "                                                lb=0,\n",
    "                                                ub=1,\n",
    "                                                obj=Cij[orig][dest], \n",
    "                                                name='x'+str(orig+1)+'_'+str(dest+1)))\n",
    "    # Add Service Decision Variables (j)\n",
    "    serv_var = []\n",
    "    for dest in service_nodes:\n",
    "        serv_var.append([])\n",
    "        serv_var[dest].append(mPCP.addVar(vtype=gbp.GRB.BINARY,\n",
    "                                          lb=0,\n",
    "                                          ub=1,\n",
    "                                          name='y'+str(dest+1)))\n",
    "    \n",
    "    # Add the Maximum travel cost variable\n",
    "    W = mPCP.addVar(vtype=gbp.GRB.CONTINUOUS,\n",
    "                    lb=0.,\n",
    "                    name='W')        \n",
    "    \n",
    "    # Update the model\n",
    "    mPCP.update()  \n",
    "    \n",
    "    #     3. Set the Objective function\n",
    "    mPCP.setObjective(W, gbp.GRB.MINIMIZE)\n",
    "    \n",
    "    #     4. Add Constraints\n",
    "    # Add Assignment Constraints\n",
    "    for orig in client_nodes:\n",
    "        mPCP.addConstr(gbp.quicksum(client_var[orig][dest] \n",
    "                            for dest in service_nodes) == 1)\n",
    "    \n",
    "    # Add Opening constraints\n",
    "    for orig in service_nodes:\n",
    "        for dest in client_nodes:\n",
    "            mPCP.addConstr((serv_var[orig][0] - client_var[dest][orig] >= 0))\n",
    "    \n",
    "    # Add Facility Constraints\n",
    "    mPCP.addConstr(gbp.quicksum(serv_var[dest][0] for dest in service_nodes) == 2)\n",
    "    \n",
    "    # Add Maximum travel cost constraints\n",
    "    for orig in client_nodes:\n",
    "        mPCP.addConstr(gbp.quicksum(Cij[orig][dest]*client_var[orig][dest]\n",
    "                            for dest in service_nodes) - W <= 0)\n",
    "    \n",
    "    #     5. Optimize and Print Results\n",
    "    # Solve\n",
    "    try:\n",
    "        mPCP.optimize()\n",
    "    except Exception as e:\n",
    "        exc_type, exc_obj, exc_tb = sys.exc_info()\n",
    "        fname = os.path.split(exc_tb.tb_frame.f_code.co_filename)[1]\n",
    "        print exc_type, fname, 'Line Number -- ',exc_tb.tb_lineno\n",
    "        print '   ################################################################'\n",
    "        print ' < ISSUE : ', e, ' >'\n",
    "        print '   ################################################################'  \n",
    "    \n",
    "    # Write LP\n",
    "    mPCP.write(path+'/LP_Files/WaverlyPCP.lp')\n",
    "    t2 = time.time()-t1\n",
    "    print '\\n*************************************************************************'\n",
    "    \n",
    "    # Record and Display Results\n",
    "    selected_PCP = []\n",
    "    dbf1 = ps.open(path+'Snapped/SERVICE_Snapped.dbf')\n",
    "    NEW_Records_PCP = []\n",
    "    for v in mPCP.getVars():\n",
    "        if 'x' in v.VarName:\n",
    "            pass\n",
    "        elif 'W' in v.VarName:\n",
    "            pass\n",
    "        elif v.x > 0:\n",
    "            var = '%s' % v.VarName\n",
    "            selected_PCP.append(var)\n",
    "            for i in range(dbf1.n_records):\n",
    "                if var in dbf1.read_record(i):\n",
    "                    x = dbf1.read_record(i)\n",
    "                    NEW_Records_PCP.append(x)\n",
    "                else:\n",
    "                    pass\n",
    "            print '    |                                            ', var,  '         '\n",
    "    print '    | Selected Facility Locations -------------- ^^^^ ',  '         '\n",
    "    print '    | Candidate Facilities [p] ----------------- ', len(selected_PCP), '           '\n",
    "    print '    | Objective Value (miles) ------------------ ', mPCP.objVal, '     '\n",
    "    print '    | Real Time to Optimize (sec.) ------------- ', t2\n",
    "    print '    | Date/Time -------------------------------- ', dt.datetime.now()\n",
    "    print '*************************************************************************'\n",
    "    print ' -- The p-Center Problem -- '\n",
    "    \n",
    "# Call p-Center Function   \n",
    "try:\n",
    "    gbpPCP()\n",
    "    print '\\nJames Gaboardi, 2015'\n",
    "except Exception as e:\n",
    "    exc_type, exc_obj, exc_tb = sys.exc_info()\n",
    "    fname = os.path.split(exc_tb.tb_frame.f_code.co_filename)[1]\n",
    "    print exc_type, fname, 'Line Number -- ',exc_tb.tb_lineno\n",
    "    print '   ################################################################'\n",
    "    print ' < ISSUE : ', e, ' >'\n",
    "    print '   ################################################################'    "
   ]
  },
  {
   "cell_type": "markdown",
   "metadata": {},
   "source": [
    "### 2.2.3b &nbsp;&nbsp;&nbsp;&nbsp; Instantiate selected *p*-Center shapefile"
   ]
  },
  {
   "cell_type": "markdown",
   "metadata": {},
   "source": [
    "Following optimization, I created a new shapefile of the selected candidate service locations."
   ]
  },
  {
   "cell_type": "code",
   "execution_count": null,
   "metadata": {
    "collapsed": false
   },
   "outputs": [],
   "source": [
    "# define PCP shapefile function\n",
    "def Create_PCP():\n",
    "    try:\n",
    "        # Instantiate Shapefile\n",
    "        SHP_Center = shp.Writer(shp.POINT)\n",
    "        # Add Points\n",
    "        for idy,idx,x,y in NEW_Records_PCP:\n",
    "            SHP_Center.point(float(x), float(y))\n",
    "        # Add Fields\n",
    "        SHP_Center.field('y_ID')\n",
    "        SHP_Center.field('x_ID')\n",
    "        SHP_Center.field('LAT')\n",
    "        SHP_Center.field('LON')\n",
    "        # Add Records\n",
    "        for idy,idx,x,y in NEW_Records_PCP:\n",
    "            SHP_Center.record(idy,idx,x,y)\n",
    "        # Save Shapefile    \n",
    "        SHP_Center.save(path+'Results/Selected_Locations_Pcenter')\n",
    "    except Exception as e:\n",
    "        exc_type, exc_obj, exc_tb = sys.exc_info()\n",
    "        fname = os.path.split(exc_tb.tb_frame.f_code.co_filename)[1]\n",
    "        print exc_type, fname, 'Line Number -- ',exc_tb.tb_lineno\n",
    "        print '   ################################################################'\n",
    "        print ' < ISSUE : ', e, ' >'\n",
    "        print '   ################################################################'\n",
    "\n",
    "# Call PCP shapefile function\n",
    "try:\n",
    "    Create_PCP()\n",
    "except Exception as e:\n",
    "    exc_type, exc_obj, exc_tb = sys.exc_info()\n",
    "    fname = os.path.split(exc_tb.tb_frame.f_code.co_filename)[1]\n",
    "    print exc_type, fname, 'Line Number -- ',exc_tb.tb_lineno\n",
    "    print '   ################################################################'\n",
    "    print ' < ISSUE : ', e, ' >'\n",
    "    print '   ################################################################'"
   ]
  },
  {
   "cell_type": "markdown",
   "metadata": {},
   "source": [
    "### 2.2.4a &nbsp;&nbsp;&nbsp;&nbsp; Manual *p*-Center `.lp` File Creation"
   ]
  },
  {
   "cell_type": "markdown",
   "metadata": {},
   "source": [
    "The following is a python script I developed to read in the data from a cost matrix and produce a linear/integer programming file. "
   ]
  },
  {
   "cell_type": "code",
   "execution_count": null,
   "metadata": {
    "collapsed": false
   },
   "outputs": [],
   "source": [
    "# p-Center Facility Location Problem\n",
    "# This script creates a linear programming file to be read into an optimizer.\n",
    "'''\n",
    "GNU LESSER GENERAL PUBLIC LICENSE\n",
    "                       Version 3, 29 June 2007\n",
    "\n",
    " Copyright (C) 2007 Free Software Foundation, Inc. <http://fsf.org/>\n",
    " Everyone is permitted to copy and distribute verbatim copies\n",
    " of this license document, but changing it is not allowed.\n",
    "'''\n",
    "# Developed by:  James D. Gaboardi, MSGIS\n",
    "#                03/2015\n",
    "#                James Gaboardi\n",
    "\n",
    "#   Terminology & General Background for Facility Location and Summation Notation:\n",
    "\n",
    "#   *        The objective of the p-center Facility Location Problem is to minimize the maximum cost \n",
    "#            of travel between service facilities and clients on a network.\n",
    "\n",
    "#   *   [i] - a specific origin\n",
    "#   *   [j] - a specifc destination\n",
    "#   *   [n] - the set of origins\n",
    "#   *   [m] - the set of destinations\n",
    "#   *   [Cij] - travel costs between nodes\n",
    "#   *   [W] - the maximum travel costs between service facilities and clients \n",
    "#   *   [x#_#] - the client decision variable\n",
    "#   *   [y#] - the service decision variable\n",
    "#   *   [p] - the number of facilities to be sited\n",
    "\n",
    "#    DEFINED FUNCTIONS\n",
    "# Assignment Constraints\n",
    "def get_assignment_constraints():\n",
    "    outtext = ' '\n",
    "    for i in range(1,rows+1):\n",
    "        temp = ' '\n",
    "        for j in range(1,cols+1):\n",
    "            temp += 'x' + str(i) + '_' + str(j) + ' + '\n",
    "        outtext += temp[:-2] + '= 1\\n'\n",
    "    return outtext\n",
    "\n",
    "# Facility Constraint  \n",
    "def get_p_facilities():\n",
    "    outtext = ''\n",
    "    for i in range(1, cols+1):\n",
    "        temp = ''\n",
    "        temp += 'y' + str(i)\n",
    "        outtext += temp + ' + '\n",
    "    outtext = ' ' + outtext[:-2] + '= 2\\n'\n",
    "    return outtext\n",
    "\n",
    "# Opening Constraints\n",
    "def get_opening_constraints_p_center():\n",
    "    outtext = ' '\n",
    "    for i in range(1, cols+1):\n",
    "        for j in range(1, rows+1):\n",
    "            outtext += ' - x' + str(j) + '_' + str(i) + ' + ' + 'y' + str(i) +  ' >= 0\\n'\n",
    "    return outtext\n",
    "\n",
    "# Maximum Cost Constraints\n",
    "def get_max_cost():\n",
    "    outtext = ''\n",
    "    for i in range(rows):\n",
    "        temp = '  '\n",
    "        for j in range(cols):\n",
    "            temp += str(Cij[i,j]) + ' x' + str(i+1) + '_' + str(j+1) + ' + '\n",
    "        outtext += temp[:-2] + '- W <= 0\\n'\n",
    "    return outtext\n",
    "\n",
    "# Declaration of Bounds\n",
    "def get_bounds_allocation():\n",
    "    outtext = ' '\n",
    "    for i in range(rows):\n",
    "        temp = ''\n",
    "        for j in range(cols):\n",
    "            temp += ' 0 <= x' + str(i+1) + '_' + str(j+1) + ' <= 1\\n'\n",
    "        outtext += temp    \n",
    "    return outtext\n",
    "\n",
    "def get_bounds_facility():\n",
    "    outtext = ''\n",
    "    for i in range(cols):\n",
    "        outtext += ' 0 <= y' + str(i+1) + ' <= 1\\n'\n",
    "    return outtext\n",
    "\n",
    "# Declaration of Decision Variables (form can be: Binary, Integer, etc.)\n",
    "def get_decision_variables_p_center():\n",
    "    outtext = ' '\n",
    "    for i in range(1, rows+1):\n",
    "        temp = ''\n",
    "        for j in range(1, cols+1):\n",
    "            temp += 'x' + str(i) + '_' + str(j) + ' '\n",
    "        outtext += temp\n",
    "    return outtext\n",
    "    \n",
    "def get_facility_decision_variables_p_center():  \n",
    "    outtext = ''\n",
    "    for i in range (1, cols+1):\n",
    "        outtext += 'y' + str(i) + ' '\n",
    "    return outtext    \n",
    "\n",
    "#    DATA READS & VARIABLE DECLARATION\n",
    "Cij = All_Dist_MILES\n",
    "rows,cols = Cij.shape\n",
    "\n",
    "#    START TEXT FOR .lp FILE\n",
    "# Declaration of Objective Function\n",
    "text = 'Minimize\\n'\n",
    "text += ' obj: W\\n'\n",
    "# Declaration of Constraints\n",
    "text += 'Subject To\\n'                    \n",
    "text += get_assignment_constraints()\n",
    "text += get_p_facilities()\n",
    "text += get_opening_constraints_p_center()\n",
    "text += get_max_cost()\n",
    "# Declaration of Bounds\n",
    "text += 'Bounds\\n'\n",
    "text += get_bounds_allocation()\n",
    "text += get_bounds_facility()\n",
    "# Declaration of Decision Variables form: Binaries\n",
    "text += 'Binaries\\n'\n",
    "text += get_decision_variables_p_center()\n",
    "text += get_facility_decision_variables_p_center()\n",
    "text += '\\n'\n",
    "text += 'End\\n'\n",
    "text += \"'''\\n\"\n",
    "text += \"James Gaboardi, 2015\"\n",
    "                \n",
    "#   CREATE & WRITE .lp FILE TO DISK\n",
    "# Fill path name  --  File name must not have spaces.\n",
    "outfile = open(path+'LP_Files/pCenter_Manual.lp', 'w')\n",
    "outfile.write(text)\n",
    "outfile.close()"
   ]
  },
  {
   "cell_type": "markdown",
   "metadata": {},
   "source": [
    "### 2.2.4b &nbsp;&nbsp;&nbsp;&nbsp; Manual *p*-Center `.lp` File Solved"
   ]
  },
  {
   "cell_type": "markdown",
   "metadata": {},
   "source": [
    "The `.lp` file created above is then read into Gurobi through `gurobipy` and solved."
   ]
  },
  {
   "cell_type": "code",
   "execution_count": null,
   "metadata": {
    "collapsed": false
   },
   "outputs": [],
   "source": [
    "# Define manual LP read PCP Function\n",
    "def Manual_LP_PCP():\n",
    "    \n",
    "    global Cij\n",
    "    global manualPCP\n",
    "    global dbf1\n",
    "    global selected_PCP_manual\n",
    "    global NEW_Records_PCP_Man\n",
    "    \n",
    "    t1 = time.time()\n",
    "\n",
    "    # Instantiate Optimization model from .lp file\n",
    "    manualPCP = gbp.read(path+'LP_Files/pCenter_Manual.lp')\n",
    "    \n",
    "    # Solve\n",
    "    try:\n",
    "        manualPCP.optimize()\n",
    "    except Exception as e:\n",
    "        exc_type, exc_obj, exc_tb = sys.exc_info()\n",
    "        fname = os.path.split(exc_tb.tb_frame.f_code.co_filename)[1]\n",
    "        print exc_type, fname, 'Line Number -- ',exc_tb.tb_lineno\n",
    "        print '   ################################################################'\n",
    "        print ' < ISSUE : ', e, ' >'\n",
    "        print '   ################################################################'    \n",
    "    \n",
    "    t2 = time.time()-t1\n",
    "\n",
    "    # Record and Display Results\n",
    "    print '\\n*************************************************************************'\n",
    "    selected_PCP_manual = []\n",
    "    dbf1 = ps.open(path+'Snapped/SERVICE_Snapped.dbf')\n",
    "    NEW_Records_PCP_Man = []\n",
    "    for v in manualPCP.getVars():\n",
    "        if 'x' in v.VarName:\n",
    "            pass\n",
    "        elif 'W' in v.VarName:\n",
    "            pass\n",
    "        elif v.x > 0:\n",
    "            var = '%s' % v.VarName\n",
    "            selected_PCP_manual.append(var)\n",
    "            for i in range(dbf1.n_records):\n",
    "                if var in dbf1.read_record(i):\n",
    "                    x = dbf1.read_record(i)\n",
    "                    NEW_Records_PCP_Man.append(x)\n",
    "                else:\n",
    "                    pass\n",
    "            print '    |                                            ', var,  '         '\n",
    "    print '    | Selected Facility Locations -------------- ^^^^ ',  '         '\n",
    "    print '    | Candidate Facilities [p] ----------------- ', len(selected_PCP_manual), '           '\n",
    "    print '    | Objective Value (miles) ------------------ ', manualPCP.objVal, '     '\n",
    "    print '    | Real Time to Optimize (sec.) ------------- ', t2\n",
    "    print '    | Date/Time -------------------------------- ', dt.datetime.now()\n",
    "    print '*************************************************************************'\n",
    "    print ' -- The p-Center Problem Manual LP Creation-- '\n",
    "    \n",
    "# Call Function\n",
    "try:\n",
    "    Manual_LP_PCP()\n",
    "    print '\\nJames Gaboardi, 2015'\n",
    "except Exception as e:\n",
    "    exc_type, exc_obj, exc_tb = sys.exc_info()\n",
    "    fname = os.path.split(exc_tb.tb_frame.f_code.co_filename)[1]\n",
    "    print exc_type, fname, 'Line Number -- ',exc_tb.tb_lineno\n",
    "    print '   ################################################################'\n",
    "    print ' < ISSUE : ', e, ' >'\n",
    "    print '   ################################################################'    "
   ]
  },
  {
   "cell_type": "markdown",
   "metadata": {},
   "source": [
    "### 2.2.4c &nbsp;&nbsp;&nbsp;&nbsp; Instantiate selected manual *p*-Center shapefile"
   ]
  },
  {
   "cell_type": "markdown",
   "metadata": {},
   "source": [
    "Following optimization, I create another new shapefile for the selected manual candidate service locations."
   ]
  },
  {
   "cell_type": "code",
   "execution_count": null,
   "metadata": {
    "collapsed": false
   },
   "outputs": [],
   "source": [
    "# define Manual PCP shapefile function\n",
    "def Create_PCP_Man():\n",
    "    try:\n",
    "        # Instantiate Shapefile\n",
    "        SHP_Center_Man = shp.Writer(shp.POINT)\n",
    "        # Add Points\n",
    "        for idy,idx,x,y in NEW_Records_PCP_Man:\n",
    "            SHP_Center_Man.point(float(x), float(y))\n",
    "        # Add Fields\n",
    "        SHP_Center_Man.field('y_ID')\n",
    "        SHP_Center_Man.field('x_ID')\n",
    "        SHP_Center_Man.field('LAT')\n",
    "        SHP_Center_Man.field('LON')\n",
    "        # Add Records\n",
    "        for idy,idx,x,y in NEW_Records_PCP_Man:\n",
    "            SHP_Center_Man.record(idy,idx,x,y)\n",
    "        # Save Shapefile    \n",
    "        SHP_Center_Man.save(path+'Results/Selected_Locations_Pcenter_Man')\n",
    "    except Exception as e:\n",
    "        exc_type, exc_obj, exc_tb = sys.exc_info()\n",
    "        fname = os.path.split(exc_tb.tb_frame.f_code.co_filename)[1]\n",
    "        print exc_type, fname, 'Line Number -- ',exc_tb.tb_lineno\n",
    "        print '   ################################################################'\n",
    "        print ' < ISSUE : ', e, ' >'\n",
    "        print '   ################################################################'\n",
    "\n",
    "# Call Manual PCP shapefile function\n",
    "try:\n",
    "    Create_PCP_Man()\n",
    "except Exception as e:\n",
    "    exc_type, exc_obj, exc_tb = sys.exc_info()\n",
    "    fname = os.path.split(exc_tb.tb_frame.f_code.co_filename)[1]\n",
    "    print exc_type, fname, 'Line Number -- ',exc_tb.tb_lineno\n",
    "    print '   ################################################################'\n",
    "    print ' < ISSUE : ', e, ' >'\n",
    "    print '   ################################################################'"
   ]
  },
  {
   "cell_type": "markdown",
   "metadata": {},
   "source": [
    "### 2.2.5 &nbsp;&nbsp;&nbsp;&nbsp; Automated *p*-Center `.lp` File Solved"
   ]
  },
  {
   "cell_type": "markdown",
   "metadata": {},
   "source": [
    "The `.lp` file created as an output when the intial *p*-center model was created and solved  is then read into Gurobi through `gurobipy` and solved."
   ]
  },
  {
   "cell_type": "code",
   "execution_count": null,
   "metadata": {
    "collapsed": false
   },
   "outputs": [],
   "source": [
    "# Define manual LP read PCP Function\n",
    "def A_to_M_LP_PCP():\n",
    "    \n",
    "    global Cij\n",
    "    global A_to_MPCP\n",
    "    global dbf1\n",
    "    global selected_PCP_A_to_M\n",
    "    global NEW_Records_PCP_A_to_M\n",
    "    \n",
    "    t1 = time.time()\n",
    "\n",
    "    # Instantiate Optimization model from .lp file\n",
    "    A_to_MPCP = gbp.read(path+'LP_Files/WaverlyPCP.lp')\n",
    "    \n",
    "    # Solve\n",
    "    try:\n",
    "        A_to_MPCP.optimize()\n",
    "    except Exception as e:\n",
    "        exc_type, exc_obj, exc_tb = sys.exc_info()\n",
    "        fname = os.path.split(exc_tb.tb_frame.f_code.co_filename)[1]\n",
    "        print exc_type, fname, 'Line Number -- ',exc_tb.tb_lineno\n",
    "        print '   ################################################################'\n",
    "        print ' < ISSUE : ', e, ' >'\n",
    "        print '   ################################################################'    \n",
    "    \n",
    "    t2 = time.time()-t1\n",
    "\n",
    "    # Record and Display Results\n",
    "    print '\\n*************************************************************************'\n",
    "    selected_PCP_A_to_M = []\n",
    "    dbf1 = ps.open(path+'Snapped/SERVICE_Snapped.dbf')\n",
    "    NEW_Records_PCP_A_to_M = []\n",
    "    for v in A_to_MPCP.getVars():\n",
    "        if 'x' in v.VarName:\n",
    "            pass\n",
    "        elif 'W' in v.VarName:\n",
    "            pass\n",
    "        elif v.x > 0:\n",
    "            var = '%s' % v.VarName\n",
    "            selected_PCP_A_to_M.append(var)\n",
    "            for i in range(dbf1.n_records):\n",
    "                if var in dbf1.read_record(i):\n",
    "                    x = dbf1.read_record(i)\n",
    "                    NEW_Records_PCP_A_to_M.append(x)\n",
    "                else:\n",
    "                    pass\n",
    "            print '    |                                            ', var,  '         '\n",
    "    print '    | Selected Facility Locations -------------- ^^^^ ',  '         '\n",
    "    print '    | Candidate Facilities [p] ----------------- ', len(selected_PCP_A_to_M), '           '\n",
    "    print '    | Objective Value (miles) ------------------ ', A_to_MPCP.objVal, '     '\n",
    "    print '    | Real Time to Optimize (sec.) ------------- ', t2\n",
    "    print '    | Date/Time -------------------------------- ', dt.datetime.now()\n",
    "    print '*************************************************************************'\n",
    "    print ' -- The p-Center Problem Solved by rereading the Auto-creation LP -- '\n",
    "    \n",
    "# Call thFunction\n",
    "try:\n",
    "    A_to_M_LP_PCP()\n",
    "    print '\\nJames Gaboardi, 2015'\n",
    "except Exception as e:\n",
    "    exc_type, exc_obj, exc_tb = sys.exc_info()\n",
    "    fname = os.path.split(exc_tb.tb_frame.f_code.co_filename)[1]\n",
    "    print exc_type, fname, 'Line Number -- ',exc_tb.tb_lineno\n",
    "    print '   ################################################################'\n",
    "    print ' < ISSUE : ', e, ' >'\n",
    "    print '   ################################################################'    "
   ]
  },
  {
   "cell_type": "markdown",
   "metadata": {},
   "source": [
    "### 2.2.4d &nbsp;&nbsp;&nbsp;&nbsp; *p*-Center Results compared"
   ]
  },
  {
   "cell_type": "markdown",
   "metadata": {},
   "source": [
    "Comaprison of the automated and manual *p*-Center solution results:"
   ]
  },
  {
   "cell_type": "code",
   "execution_count": null,
   "metadata": {
    "collapsed": false
   },
   "outputs": [],
   "source": [
    "print ' \\n Automated p-Center'\n",
    "print '    | Candidate Facilities [p] ----------------- ', len(selected_PCP), '           '\n",
    "print '    | Selected Facility Locations -------------- ', selected_PCP\n",
    "print '    | Objective Value (miles) ------------------ ', mPCP.objVal, '     '\n",
    "\n",
    "print '\\n Manual p-Center'\n",
    "print '    | Candidate Facilities [p] ----------------- ', len(selected_PCP_manual), '           '\n",
    "print '    | Selected Facility Locations -------------- ', selected_PCP_manual\n",
    "print '    | Objective Value (miles) ------------------ ', manualPCP.objVal, '     '\n",
    "\n",
    "print '\\n\\n    | Same Objective Value (str) --------------- ', str(mPCP.ObjVal) == str(manualPCP.ObjVal)\n",
    "print '    | Same Objective Value (float)  ------------ ', mPCP.ObjVal.real == manualPCP.ObjVal.real\n",
    "print '    | Same Facilities  ------------------------- ', selected_PCP == selected_PCP_manual\n",
    "\n",
    "print '\\nIdentical Parameters? ', str(mPCP.Params) == str(manualPCP.Params)\n",
    "\n",
    "print '\\n1: ', (\"%.50f\" % mPCP.ObjVal)\n",
    "print '2: ', (\"%.50f\" % manualPCP.ObjVal)\n",
    "print '3: ', (\"%.50f\" % A_to_MPCP.ObjVal)"
   ]
  },
  {
   "cell_type": "markdown",
   "metadata": {},
   "source": [
    "-------------"
   ]
  },
  {
   "cell_type": "markdown",
   "metadata": {},
   "source": [
    "## 2.3 &nbsp;&nbsp;&nbsp;&nbsp; Selected locations"
   ]
  },
  {
   "cell_type": "markdown",
   "metadata": {},
   "source": [
    "In the final step, I visualize the selected locations on the SCLP, PMP, and PCP by calling the shapefiles created after optimizing the problems. \n",
    "\n",
    "Of particular note is the frequent discrepancy of the optimal candidate locations between the PCP solutions without a seed even when run with the exact same parameters. Although the objective values are generally equal up to 10 significant after every trial, the PCP model built and solved with `gurobipy` generally runs either more quickly or with more simplex iterations.  The cause of the discrepancy is yet unknown."
   ]
  },
  {
   "cell_type": "markdown",
   "metadata": {},
   "source": [
    "### Selected Set Cover, <i>p</i>-median, and <i>p</i>-center locations</u>"
   ]
  },
  {
   "cell_type": "code",
   "execution_count": null,
   "metadata": {
    "collapsed": false,
    "scrolled": false
   },
   "outputs": [],
   "source": [
    "figsize(10,11)\n",
    "# Draw Network Actual Roads and Nodes\n",
    "nx.draw(g, ntw.node_coords, node_size=5, alpha=0.25, edge_color='r', width=2)\n",
    "\n",
    "# Set Cover\n",
    "SetCover = ps.open(path+'Results/Selected_Locations_SetCover.shp')\n",
    "points_setcover = {}\n",
    "for idx, coords in enumerate(SetCover):\n",
    "    setcover_g.add_node(idx)\n",
    "    points_setcover[idx] = coords\n",
    "    setcover_g.node[idx] = coords\n",
    "nx.draw(setcover_g, points_setcover, \n",
    "        node_size=1400, alpha=1, node_color='g')\n",
    "\n",
    "# p-Median\n",
    "P_Med = ps.open(path+'Results/Selected_Locations_Pmedian.shp')\n",
    "points_median = {}\n",
    "for idx, coords in enumerate(P_Med):\n",
    "    median_g.add_node(idx)\n",
    "    points_median[idx] = coords\n",
    "    median_g.node[idx] = coords\n",
    "nx.draw(median_g, points_median, \n",
    "        node_size=1000, alpha=1, node_color='r')\n",
    "\n",
    "# p-Center\n",
    "P_Cent = ps.open(path+'Results/Selected_Locations_Pcenter.shp')\n",
    "points_center = {}\n",
    "for idx, coords in enumerate(P_Cent):\n",
    "    center_g.add_node(idx)\n",
    "    points_center[idx] = coords\n",
    "    center_g.node[idx] = coords\n",
    "nx.draw(center_g, points_center, \n",
    "        node_size=700, alpha=1, node_color='b')\n",
    "\n",
    "# p-Center Manual\n",
    "P_Cent_Man = ps.open(path+'Results/Selected_Locations_Pcenter_Man.shp')\n",
    "points_center_man = {}\n",
    "for idx, coords in enumerate(P_Cent_Man):\n",
    "    center_g_man.add_node(idx)\n",
    "    points_center_man[idx] = coords\n",
    "    center_g_man.node[idx] = coords\n",
    "nx.draw(center_g_man, points_center_man, \n",
    "        node_size=300, alpha=1, node_color='y', node_shape='d' )\n",
    "\n",
    "# Draw Graph of Random Client\n",
    "nx.draw(GRAPH_client, points_client, \n",
    "        node_size=15, alpha=.5, node_color='k')\n",
    "\n",
    "# Draw Graph of Snapped Service\n",
    "nx.draw(g_service, ntw.pointpatterns['Rand_Points_SERVICE'].snapped_coordinates, \n",
    "        node_size=50, alpha=1, node_color='k')\n",
    "\n",
    "# Legend (Ordered Dictionary)\n",
    "LEGEND = OrderedDict()\n",
    "LEGEND['Network Nodes']=g\n",
    "LEGEND['Roads']=g\n",
    "LEGEND['Optimal Set Cover (S=1.25)']=setcover_g\n",
    "LEGEND['Optimal p-Median (p=2)']=median_g\n",
    "LEGEND['Optimal p-Center (p=2)']=center_g\n",
    "LEGEND['Optimal p-Center Manual(p=2)']=center_g_man\n",
    "LEGEND['Client Nodes']=GRAPH_client\n",
    "LEGEND['Snapped Service Nodes']=g_service\n",
    "legend(LEGEND, \n",
    "       loc='lower right', \n",
    "       fancybox=True, \n",
    "       framealpha=0.5, \n",
    "       scatterpoints=1)\n",
    "\n",
    "# Title\n",
    "title('Waverly Hills\\n Tallahassee, Florida', family='Times New Roman', \n",
    "      size=40, color='k', backgroundcolor='w', weight='bold')\n",
    "\n",
    "# North Arrow and 'N' --> Must be changed for different spatial resolutions, etc.\n",
    "arrow(-84.281, 30.49, 0.0, 0.005, width=.0003, head_width=0.001, \n",
    "          head_length=0.0015, fc='k', ec='k',alpha=0.75,)\n",
    "annotate('N', xy=(-84.2815, 30.498), fontstyle='italic', fontsize='xx-large',\n",
    "            fontweight='heavy', alpha=0.75)"
   ]
  },
  {
   "cell_type": "markdown",
   "metadata": {},
   "source": [
    "---------------------"
   ]
  },
  {
   "cell_type": "markdown",
   "metadata": {},
   "source": [
    "# 3. Next Steps"
   ]
  },
  {
   "cell_type": "markdown",
   "metadata": {},
   "source": [
    "- Potential for refactoring the Dijkstra algorithm in `PySAL.Network` to increase efficiency\n",
    "\n",
    "- Improve cases for determining the simplified network to tackle to issue of network size\n",
    "\n",
    "- Integrate PySAL with an open source solver"
   ]
  },
  {
   "cell_type": "markdown",
   "metadata": {},
   "source": [
    "----------------"
   ]
  },
  {
   "cell_type": "markdown",
   "metadata": {},
   "source": [
    "# GitHub \n",
    "# https://github.com/jGaboardi/SHRUG__2015"
   ]
  },
  {
   "cell_type": "markdown",
   "metadata": {},
   "source": [
    "------------------------"
   ]
  },
  {
   "cell_type": "code",
   "execution_count": null,
   "metadata": {
    "collapsed": false
   },
   "outputs": [],
   "source": [
    "IPd.HTML('https://github.com/jGaboardi')"
   ]
  },
  {
   "cell_type": "markdown",
   "metadata": {},
   "source": [
    "---------------"
   ]
  },
  {
   "cell_type": "markdown",
   "metadata": {},
   "source": [
    "# References"
   ]
  },
  {
   "cell_type": "markdown",
   "metadata": {},
   "source": [
    "- Church, R. L. 2002. Geographical information systems and location science. Computers and Operations Research 29:541–562.\n",
    "- Church, R. L., and A. T. Murray. 2009. Business Site Selections, Locational Analysis, and GIS. Hoboken, NJ, USA: John Wiley & Sons, Inc.\n",
    "- Current, J., and M. O. Kelly. 1992. Locating Emergency Warning Sirens. Decision Sciences 23:221–234.\n",
    "- Daskin, M. 1997. Network and Discrete Location: Models, Algorithms and Applications. Hoboken, NJ, USA: John Wiley & Sons, Inc.\n",
    "- Gass, S. I., and A. A. Assad. 2005. An Annotated Timeline of Operations Research: An Informal History. New York: Springer.\n",
    "- Hadley, G. 1963. Linear Programming. Reading, MA: London: Addison-Wesley Pub. Co.\n",
    "- Hakimi, S. L. 1964. Optimum Locations of Switching Centers and the Absolute Centers and Medians of a Graph. Operations Research 12 (3):450–459.\n",
    "- Hoffman, K. L., M. Padberg, and G. Rinaldi. 2011. The Traveling Salesman Problem. Encyclopedia of Operations Research and Management Science 3 (1):1573–1578.\n",
    "- Longley, P. A., M. F. Goodchild, D. J. Maguire, and D. W. Rhind. 2011. Geographic Information Systems & Science 3rd ed. Hoboken, NJ, USA: John Wiley & Sons, Inc.\n",
    "- Miller, H. J., and S.L. Shaw. 2001. Geographic Information Systems for Transportation. New York: Oxford University Press.\n",
    "- Minieka, E. 1970. The m-Center Problem. SIAM Review 12:38–39.\n",
    "- Owen, S. H., and M. S. Daskin. 1998. Strategic facility location: A review. European Journal of Operational Research 111 (3):423–447.\n",
    "- Peet, R. 1998. Introduction: Geography, Philosophy, and Social Theory. In Modern Geographical Thought, 1–33. Wiley-Blackwell.\n",
    "- Ram, K. 2013. Git can facilitate greater reproducibility and increased transparency in science. Source code for biology and medicine 8 (1):7.\n",
    "- ReVelle, C. S. 2005. Location analysis: A synthesis and survey. European Journal of Operational Research 165:1–19.\n",
    "- ReVelle, C. S., and R. W. Swain. 1970. Central facilities location. Geographical Analysis 2 (1):30–42.\n",
    "- Teitz, M. B., and P. Bart. 1968. Heuristic Methods for Estimating the Generalized Vertex Median of a Weighted Graph. Operations Research 16 (5):955–961."
   ]
  },
  {
   "cell_type": "markdown",
   "metadata": {},
   "source": [
    "-----"
   ]
  }
 ],
 "metadata": {
  "kernelspec": {
   "display_name": "Python 2",
   "language": "python",
   "name": "python2"
  },
  "language_info": {
   "codemirror_mode": {
    "name": "ipython",
    "version": 2
   },
   "file_extension": ".py",
   "mimetype": "text/x-python",
   "name": "python",
   "nbconvert_exporter": "python",
   "pygments_lexer": "ipython2",
   "version": "2.7.9"
  }
 },
 "nbformat": 4,
 "nbformat_minor": 0
}
